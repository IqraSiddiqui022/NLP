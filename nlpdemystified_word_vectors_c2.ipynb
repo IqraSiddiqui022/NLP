{
  "nbformat": 4,
  "nbformat_minor": 0,
  "metadata": {
    "colab": {
      "provenance": [],
      "gpuType": "T4",
      "include_colab_link": true
    },
    "kernelspec": {
      "name": "python3",
      "display_name": "Python 3"
    },
    "accelerator": "GPU"
  },
  "cells": [
    {
      "cell_type": "markdown",
      "metadata": {
        "id": "view-in-github",
        "colab_type": "text"
      },
      "source": [
        "<a href=\"https://colab.research.google.com/github/MUmairBaig/NLP/blob/main/nlpdemystified_word_vectors_c2.ipynb\" target=\"_parent\"><img src=\"https://colab.research.google.com/assets/colab-badge.svg\" alt=\"Open In Colab\"/></a>"
      ]
    },
    {
      "cell_type": "markdown",
      "source": [
        "# Natural Language Processing Demystified | Word Vectors\n",
        "https://nlpdemystified.org<br>\n",
        "https://github.com/futuremojo/nlp-demystified<br><br>\n",
        "Course module for this demo: https://www.nlpdemystified.org/course/word-vectors"
      ],
      "metadata": {
        "id": "UuPdnyWXh7vb"
      }
    },
    {
      "cell_type": "markdown",
      "source": [
        "**IMPORTANT**<br>\n",
        "Enable **GPU acceleration** by going to *Runtime > Change Runtime Type*. Keep in mind that, on certain tiers, you're not guaranteed GPU access depending on usage history and current load.\n",
        "<br><br>\n",
        "Also, if you're running this in the cloud rather than a local Jupyter server on your machine, then the notebook will *timeout* after a period of inactivity.\n",
        "<br><br>\n",
        "Refer to this link on how to run Colab notebooks locally on your machine to avoid this issue:<br>\n",
        "https://research.google.com/colaboratory/local-runtimes.html"
      ],
      "metadata": {
        "id": "91LZr9ogtHi_"
      }
    },
    {
      "cell_type": "markdown",
      "source": [
        "To demonstrate word vectors, we're going to use **Gensim** which we first encountered in the [topic modelling](https://www.nlpdemystified.org/course/topic-modelling) module.<br>\n",
        "\n",
        "At the time of this recording, the default Gensim version in Colab was 3.X, so we'll first upgrade to 4.X."
      ],
      "metadata": {
        "id": "qOE58pxDZqah"
      }
    },
    {
      "cell_type": "code",
      "source": [
        "# Upgrade gensim just in case.\n",
        "!pip install -U gensim==4.*"
      ],
      "metadata": {
        "id": "2vNBSTzIKkRT",
        "colab": {
          "base_uri": "https://localhost:8080/"
        },
        "outputId": "a0ab6712-60b5-4a85-f1d9-74ab1ac1391a"
      },
      "execution_count": 68,
      "outputs": [
        {
          "output_type": "stream",
          "name": "stdout",
          "text": [
            "Requirement already satisfied: gensim==4.* in /usr/local/lib/python3.10/dist-packages (4.3.2)\n",
            "Requirement already satisfied: numpy>=1.18.5 in /usr/local/lib/python3.10/dist-packages (from gensim==4.*) (1.25.2)\n",
            "Requirement already satisfied: scipy>=1.7.0 in /usr/local/lib/python3.10/dist-packages (from gensim==4.*) (1.11.4)\n",
            "Requirement already satisfied: smart-open>=1.8.1 in /usr/local/lib/python3.10/dist-packages (from gensim==4.*) (7.0.4)\n",
            "Requirement already satisfied: wrapt in /usr/local/lib/python3.10/dist-packages (from smart-open>=1.8.1->gensim==4.*) (1.14.1)\n"
          ]
        }
      ]
    },
    {
      "cell_type": "code",
      "source": [
        "import collections\n",
        "import matplotlib.pyplot as plt\n",
        "import numpy as np\n",
        "import pandas as pd\n",
        "import spacy\n",
        "import tensorflow as tf\n",
        "\n",
        "from gensim.models.keyedvectors import KeyedVectors\n",
        "from sklearn.decomposition import PCA\n",
        "from sklearn.model_selection import train_test_split\n",
        "from tensorflow import keras\n",
        "from tensorflow.keras import layers"
      ],
      "metadata": {
        "id": "kIMAMpBaoqkP"
      },
      "execution_count": 69,
      "outputs": []
    },
    {
      "cell_type": "markdown",
      "source": [
        "**NOTE**<br>\n",
        "In this notebook, we won't train standalone word embeddings from scratch. Rather, we'll:\n",
        "1. Use *pretrained* embeddings in one model.\n",
        "2. Train embeddings alongside another model.\n",
        "<br>\n",
        "\n",
        "If you want to try training standalone word embeddings, coding Skip-Gram With Negative Sampling (SGNS) from scratch shouldn't be too hard now that you know all the details. But I recommend just using the **Gensim** library instead:<br>\n",
        "https://radimrehurek.com/gensim/models/word2vec.html<br>\n",
        "https://radimrehurek.com/gensim/auto_examples/tutorials/run_word2vec.html\n",
        "\n"
      ],
      "metadata": {
        "id": "SBQlbyiVY3WJ"
      }
    },
    {
      "cell_type": "markdown",
      "source": [
        "# Using Pretrained, Third-Party Vectors"
      ],
      "metadata": {
        "id": "A_rgKP1vJ2kT"
      }
    },
    {
      "cell_type": "markdown",
      "source": [
        "There are a variety of pretrained, static word vector packages out there. In this section, we'll use the **Google News** vectors, a collection of three million, 300-dimension word vectors trained from three billion words from a Google News corpus (circa 2015)."
      ],
      "metadata": {
        "id": "RHMDs5FPKXUx"
      }
    },
    {
      "cell_type": "markdown",
      "source": [
        "We'll need to first download the actual word vectors. It's over a gigabyte in size but will fit within our environment."
      ],
      "metadata": {
        "id": "lQEAXBoBMidI"
      }
    },
    {
      "cell_type": "code",
      "source": [
        "!gdown \"https://drive.google.com/uc?id=1BpfbHu4denceXiv8yfdY3EHgjKIcULku\""
      ],
      "metadata": {
        "id": "dIKSA-KMbj8E",
        "colab": {
          "base_uri": "https://localhost:8080/"
        },
        "outputId": "8b336045-0fac-4193-e8c3-4405ff990955"
      },
      "execution_count": 70,
      "outputs": [
        {
          "output_type": "stream",
          "name": "stdout",
          "text": [
            "Downloading...\n",
            "From (original): https://drive.google.com/uc?id=1BpfbHu4denceXiv8yfdY3EHgjKIcULku\n",
            "From (redirected): https://drive.google.com/uc?id=1BpfbHu4denceXiv8yfdY3EHgjKIcULku&confirm=t&uuid=ab3ea30b-dcc7-44d0-989c-f0f5fd874585\n",
            "To: /content/GoogleNews-vectors-negative300.bin.gz\n",
            "100% 1.65G/1.65G [00:34<00:00, 47.4MB/s]\n"
          ]
        }
      ]
    },
    {
      "cell_type": "code",
      "source": [
        "embedding_file = './GoogleNews-vectors-negative300.bin.gz'"
      ],
      "metadata": {
        "id": "6FtVSlPQbj4F"
      },
      "execution_count": 71,
      "outputs": []
    },
    {
      "cell_type": "markdown",
      "source": [
        "Next, we'll have **gensim** load the vectors through the **KeyedVectors** module which will enable us to look up vectors by tokens and indices.<br>\n",
        "https://radimrehurek.com/gensim/models/keyedvectors.html\n",
        "<br><br>\n",
        "To save time and space, we'll limit ourselves to 200,000 word vectors for now."
      ],
      "metadata": {
        "id": "BXQRngPaPWhE"
      }
    },
    {
      "cell_type": "code",
      "source": [
        "%%time\n",
        "word_vectors = KeyedVectors.load_word2vec_format(embedding_file, binary=True, limit=200000)"
      ],
      "metadata": {
        "id": "dmRUiKPObjqM",
        "colab": {
          "base_uri": "https://localhost:8080/"
        },
        "outputId": "8b5e80a3-794f-4847-8b99-90235e5bde12"
      },
      "execution_count": 72,
      "outputs": [
        {
          "output_type": "stream",
          "name": "stdout",
          "text": [
            "CPU times: user 3.57 s, sys: 199 ms, total: 3.76 s\n",
            "Wall time: 5.06 s\n"
          ]
        }
      ]
    },
    {
      "cell_type": "markdown",
      "source": [
        "Retrieving a word's vector is a matter of using a token as a key."
      ],
      "metadata": {
        "id": "ir22T0t3QqPS"
      }
    },
    {
      "cell_type": "code",
      "source": [
        "pizza = word_vectors['pizza']\n",
        "print(f'Vector dimension: {pizza.shape}')\n",
        "\n",
        "# The embedding for the word 'pizza'.\n",
        "print(pizza)"
      ],
      "metadata": {
        "id": "wm9lDs3Vfv12",
        "colab": {
          "base_uri": "https://localhost:8080/"
        },
        "outputId": "cb7cc972-21fc-4631-8d28-8e6c7064ee14"
      },
      "execution_count": 73,
      "outputs": [
        {
          "output_type": "stream",
          "name": "stdout",
          "text": [
            "Vector dimension: (300,)\n",
            "[-1.25976562e-01  2.53906250e-02  1.66992188e-01  5.50781250e-01\n",
            " -7.66601562e-02  1.28906250e-01  1.02539062e-01 -3.94821167e-04\n",
            "  1.21582031e-01  4.32128906e-02  1.72851562e-01 -6.83593750e-02\n",
            "  3.41796875e-01  8.39843750e-02  6.68945312e-02  2.67578125e-01\n",
            " -3.71093750e-02 -5.56640625e-02  1.80664062e-01  1.90429688e-02\n",
            " -5.07812500e-02  9.03320312e-03  1.76757812e-01  6.49414062e-02\n",
            " -6.25000000e-02 -9.42382812e-02 -9.71679688e-02  4.00390625e-01\n",
            "  1.15234375e-01  1.02539062e-01 -1.86767578e-02 -2.69531250e-01\n",
            "  1.80664062e-01  1.25000000e-01 -3.17382812e-02 -5.49316406e-02\n",
            "  3.45703125e-01 -1.57470703e-02  1.82390213e-05  2.07031250e-01\n",
            " -1.25976562e-01 -2.83203125e-01  2.00195312e-01  8.34960938e-02\n",
            " -4.73632812e-02 -3.11279297e-02 -2.61718750e-01  1.69921875e-01\n",
            " -2.02636719e-02  1.53320312e-01 -1.20605469e-01  3.75000000e-01\n",
            " -5.68847656e-02 -4.76074219e-03 -1.95312500e-01 -2.03125000e-01\n",
            "  3.00781250e-01 -1.01074219e-01 -3.18359375e-01 -9.03320312e-02\n",
            " -1.19140625e-01  1.95312500e-01 -8.78906250e-02  1.58203125e-01\n",
            "  1.51977539e-02 -1.60156250e-01 -3.30078125e-01 -4.66796875e-01\n",
            "  1.68945312e-01  2.23388672e-02  1.55273438e-01  1.08398438e-01\n",
            " -3.56445312e-02  9.13085938e-02 -8.69140625e-02 -1.20117188e-01\n",
            " -3.08593750e-01 -2.61230469e-02 -7.22656250e-02 -4.80468750e-01\n",
            "  3.78417969e-02 -1.35742188e-01 -1.02539062e-01 -2.91015625e-01\n",
            " -1.93359375e-01 -4.21875000e-01 -1.06445312e-01  3.55468750e-01\n",
            "  1.66992188e-01 -3.63159180e-03 -7.42187500e-02 -3.22265625e-01\n",
            " -7.51953125e-02 -8.25195312e-02 -2.91015625e-01 -1.25976562e-01\n",
            "  1.68457031e-02  5.00488281e-02  1.27929688e-01 -7.42187500e-02\n",
            " -1.30859375e-01 -2.46093750e-01  6.49414062e-02  1.53320312e-01\n",
            "  2.59765625e-01 -1.05468750e-01  3.57421875e-01 -4.29687500e-02\n",
            " -1.58203125e-01  8.20312500e-02 -5.98144531e-02 -2.34375000e-01\n",
            " -3.22265625e-01 -1.25976562e-01  5.39550781e-02 -1.87500000e-01\n",
            "  1.35742188e-01 -6.59179688e-02  8.36181641e-03 -1.84570312e-01\n",
            " -2.96875000e-01 -1.84570312e-01 -4.73632812e-02 -1.06445312e-01\n",
            " -6.93359375e-02  3.83300781e-02 -3.19824219e-02  3.63769531e-02\n",
            " -1.20117188e-01  1.76757812e-01 -1.15722656e-01  1.98974609e-02\n",
            "  8.64257812e-02  6.07910156e-02 -1.40625000e-01  3.30078125e-01\n",
            "  1.94335938e-01 -1.56250000e-01  3.92578125e-01  1.80816650e-03\n",
            "  7.27539062e-02 -2.53906250e-01 -3.54003906e-02  2.86865234e-03\n",
            " -1.72851562e-01  9.76562500e-03 -1.55639648e-02  3.23486328e-03\n",
            " -1.69921875e-01  1.55273438e-01  7.17773438e-02  4.10156250e-01\n",
            " -2.10937500e-01  1.31835938e-01  7.62939453e-03  4.78515625e-02\n",
            " -4.54101562e-02  7.32421875e-02 -4.06250000e-01 -2.06298828e-02\n",
            " -4.04296875e-01 -1.00585938e-01 -2.03125000e-01  1.55273438e-01\n",
            " -1.89453125e-01  6.59179688e-02  6.54296875e-02 -2.05078125e-01\n",
            "  5.46875000e-02 -3.06396484e-02 -1.54296875e-01 -2.61718750e-01\n",
            "  3.81469727e-03 -8.20312500e-02 -3.20312500e-01  2.84423828e-02\n",
            "  2.69531250e-01  1.73828125e-01 -1.66992188e-01  2.22656250e-01\n",
            "  6.34765625e-02 -1.96289062e-01  1.45507812e-01 -1.56250000e-02\n",
            "  2.60009766e-02 -6.29882812e-02  2.94189453e-02  3.28125000e-01\n",
            " -4.68750000e-02 -1.52343750e-01  6.98242188e-02  3.18359375e-01\n",
            " -1.08398438e-01  3.66210938e-02 -1.99218750e-01  1.64031982e-03\n",
            "  6.40869141e-03 -1.47460938e-01 -6.25000000e-02 -4.36401367e-03\n",
            " -2.75390625e-01  8.54492188e-02 -5.00488281e-02 -3.12500000e-01\n",
            " -1.33789062e-01 -1.99218750e-01  5.17578125e-02 -9.27734375e-02\n",
            " -2.40234375e-01 -7.86132812e-02 -1.54296875e-01 -6.64062500e-02\n",
            " -1.97265625e-01  1.76757812e-01 -1.57226562e-01 -1.63085938e-01\n",
            "  6.00585938e-02 -5.85937500e-02 -2.22656250e-01 -6.59179688e-02\n",
            " -9.37500000e-02 -4.14062500e-01  2.55859375e-01 -1.76757812e-01\n",
            "  2.51953125e-01  1.48437500e-01 -1.04492188e-01 -8.60595703e-03\n",
            " -1.22558594e-01 -9.22851562e-02  4.41894531e-02 -1.70898438e-01\n",
            " -1.98242188e-01  1.92382812e-01  2.85156250e-01 -4.34570312e-02\n",
            "  1.08398438e-01 -5.37109375e-02 -2.09960938e-02  1.46484375e-01\n",
            "  3.82812500e-01  2.31933594e-02 -8.83789062e-02  7.32421875e-02\n",
            " -1.01074219e-01 -1.06445312e-01  4.12109375e-01  2.10937500e-01\n",
            "  2.79296875e-01 -2.08740234e-02  2.07031250e-01  9.81445312e-02\n",
            "  2.39257812e-01  7.66601562e-02  2.02148438e-01 -6.07910156e-02\n",
            " -2.63977051e-03 -1.83593750e-01 -1.57470703e-02 -3.20312500e-01\n",
            "  9.03320312e-02  1.02050781e-01 -4.96093750e-01 -9.71679688e-02\n",
            " -8.10546875e-02 -1.80664062e-01 -1.45507812e-01  8.64257812e-02\n",
            " -2.04101562e-01 -2.02148438e-01 -5.46875000e-02  2.53906250e-01\n",
            "  2.08740234e-02 -1.15722656e-01  2.02148438e-01 -8.05664062e-02\n",
            " -1.04980469e-01 -7.95898438e-02  1.96533203e-02 -2.49023438e-01\n",
            "  1.30859375e-01  2.89062500e-01 -2.25585938e-01  4.55078125e-01\n",
            " -2.73437500e-01 -2.57812500e-01 -3.14941406e-02  4.04296875e-01\n",
            " -2.67578125e-01  2.89062500e-01 -1.83593750e-01 -1.48437500e-01\n",
            " -1.06933594e-01  1.27929688e-01  5.46875000e-01 -8.69140625e-02\n",
            " -1.48315430e-02  6.98242188e-02 -8.49609375e-02 -1.55273438e-01]\n"
          ]
        }
      ]
    },
    {
      "cell_type": "markdown",
      "source": [
        "We can get the cosine similarity between two words using the *similarity* method.\n",
        "https://radimrehurek.com/gensim/models/keyedvectors.html#gensim.models.keyedvectors.KeyedVectors.similarity"
      ],
      "metadata": {
        "id": "ORLN9U9fq8hp"
      }
    },
    {
      "cell_type": "markdown",
      "source": [
        "In this case, we see words which we expect to be related have a higher similarity measure..."
      ],
      "metadata": {
        "id": "G-7Iuo2orp60"
      }
    },
    {
      "cell_type": "code",
      "source": [
        "print(word_vectors.similarity('pizza', 'tomato'))\n",
        "print(word_vectors.similarity('pizza', 'sauce'))\n",
        "print(word_vectors.similarity('pizza', 'cheese'))"
      ],
      "metadata": {
        "id": "r1i6H88Cfp1P",
        "colab": {
          "base_uri": "https://localhost:8080/"
        },
        "outputId": "210d7566-3df9-480e-e370-0fb6625a550d"
      },
      "execution_count": 74,
      "outputs": [
        {
          "output_type": "stream",
          "name": "stdout",
          "text": [
            "0.35505623\n",
            "0.36959887\n",
            "0.4708358\n"
          ]
        }
      ]
    },
    {
      "cell_type": "markdown",
      "source": [
        "...compared to words we don't expect to be related."
      ],
      "metadata": {
        "id": "6UWdQJzaryQL"
      }
    },
    {
      "cell_type": "code",
      "source": [
        "print(word_vectors.similarity('pizza', 'gorilla'))\n",
        "print(word_vectors.similarity('pizza', 'tree'))\n",
        "print(word_vectors.similarity('pizza', 'yoga'))"
      ],
      "metadata": {
        "id": "YUXR8uQ0ftWF",
        "colab": {
          "base_uri": "https://localhost:8080/"
        },
        "outputId": "6313bf44-36a3-4304-f7c6-7af1ede07db9"
      },
      "execution_count": 75,
      "outputs": [
        {
          "output_type": "stream",
          "name": "stdout",
          "text": [
            "0.108518735\n",
            "0.11185602\n",
            "0.14119941\n"
          ]
        }
      ]
    },
    {
      "cell_type": "markdown",
      "source": [
        "Out-of-vocabulary (OOV) words thrown an exception. Bear in mind that looking up even common words here can result in an exception because we loaded only a subset of the vocabulary."
      ],
      "metadata": {
        "id": "g3cD4P1tr4fT"
      }
    },
    {
      "cell_type": "code",
      "source": [
        "try:\n",
        "  word_vectors['womblyboo']\n",
        "except KeyError as e:\n",
        "  print(e)"
      ],
      "metadata": {
        "id": "zLf9bpYihVz7",
        "colab": {
          "base_uri": "https://localhost:8080/"
        },
        "outputId": "deb663e1-3dc6-469e-c93e-4e7bf7fd6136"
      },
      "execution_count": 76,
      "outputs": [
        {
          "output_type": "stream",
          "name": "stdout",
          "text": [
            "\"Key 'womblyboo' not present\"\n"
          ]
        }
      ]
    },
    {
      "cell_type": "markdown",
      "source": [
        "We can compare two sentences by using *n_similarity* which computes the cosine similarity of two **sets** of words.\n",
        "https://radimrehurek.com/gensim/models/keyedvectors.html#gensim.models.keyedvectors.KeyedVectors.n_similarity<br><br>\n",
        "*n_similarity* expects a sentence as a list of words, hence the use of '.split()'. It'll take this list of words, calculate the average of its word vectors, and use the result as an embedding for the whole sentence."
      ],
      "metadata": {
        "id": "XCQcU72-q0V5"
      }
    },
    {
      "cell_type": "code",
      "source": [
        "word_vectors.n_similarity(\"dog bites man\".split(), \"canine nips human\".split())"
      ],
      "metadata": {
        "id": "nwvDT25miXk0",
        "colab": {
          "base_uri": "https://localhost:8080/"
        },
        "outputId": "3e5522eb-f640-41b5-a79a-dbc9887616e4"
      },
      "execution_count": 77,
      "outputs": [
        {
          "output_type": "execute_result",
          "data": {
            "text/plain": [
              "0.53146607"
            ]
          },
          "metadata": {},
          "execution_count": 77
        }
      ]
    },
    {
      "cell_type": "code",
      "source": [
        "word_vectors.n_similarity(\"martian dolphins are hostile\".split(), \"i flunked calligraphy school\".split())"
      ],
      "metadata": {
        "id": "_rgATfqBisrn",
        "colab": {
          "base_uri": "https://localhost:8080/"
        },
        "outputId": "f4a09b9a-9fac-4e33-cbe0-5851235cb86b"
      },
      "execution_count": 78,
      "outputs": [
        {
          "output_type": "execute_result",
          "data": {
            "text/plain": [
              "0.1450578"
            ]
          },
          "metadata": {},
          "execution_count": 78
        }
      ]
    },
    {
      "cell_type": "markdown",
      "source": [
        "One downside of this approach is that word order is thrown out, so two sentences with identical words which mean different things would score a perfect similarity score."
      ],
      "metadata": {
        "id": "BZLcvAU4vf6P"
      }
    },
    {
      "cell_type": "code",
      "source": [
        "word_vectors.n_similarity(\"dog bites man\".split(), \"man bites dog\".split())"
      ],
      "metadata": {
        "id": "yikNOChTinp0",
        "colab": {
          "base_uri": "https://localhost:8080/"
        },
        "outputId": "21552ff5-ccc3-4a6a-90d1-165d86b98021"
      },
      "execution_count": 79,
      "outputs": [
        {
          "output_type": "execute_result",
          "data": {
            "text/plain": [
              "1.0"
            ]
          },
          "metadata": {},
          "execution_count": 79
        }
      ]
    },
    {
      "cell_type": "markdown",
      "source": [
        "Doing quick-and-dirty similarity measures like this is probably best if your corpus is domain-specific and similarity is based more on keywords. The more specific, the better.<br><br>\n",
        "For example, a corpus of business news headlines would probably work well."
      ],
      "metadata": {
        "id": "DLLpgr06vxTQ"
      }
    },
    {
      "cell_type": "code",
      "source": [
        "s1 = \"Volkswagen intends to double electric car sales in China\".lower().split()\n",
        "s2 = \"First Toyota with solid state battery will be hybrid\".lower().split()\n",
        "word_vectors.n_similarity(s1, s2)"
      ],
      "metadata": {
        "id": "EejHDg24iyum",
        "colab": {
          "base_uri": "https://localhost:8080/"
        },
        "outputId": "edf3da4f-7e19-49d8-8d04-a7c6f56db56b"
      },
      "execution_count": 80,
      "outputs": [
        {
          "output_type": "execute_result",
          "data": {
            "text/plain": [
              "0.52682734"
            ]
          },
          "metadata": {},
          "execution_count": 80
        }
      ]
    },
    {
      "cell_type": "markdown",
      "source": [
        "The *most_similar* method returns the words with the closest vectors.<br>\n",
        "https://radimrehurek.com/gensim/models/keyedvectors.html#gensim.models.keyedvectors.KeyedVectors.most_similar"
      ],
      "metadata": {
        "id": "aWsFWJUXQ9RR"
      }
    },
    {
      "cell_type": "code",
      "source": [
        "word_vectors.most_similar(positive=['cell'], topn=10)"
      ],
      "metadata": {
        "id": "2f2CXSQNxZgf",
        "colab": {
          "base_uri": "https://localhost:8080/"
        },
        "outputId": "1d445b88-9b08-493f-ae94-2e55952b0667"
      },
      "execution_count": 81,
      "outputs": [
        {
          "output_type": "execute_result",
          "data": {
            "text/plain": [
              "[('cells', 0.8180485367774963),\n",
              " ('Cells', 0.6146953105926514),\n",
              " ('Cell', 0.5321314930915833),\n",
              " ('cellular', 0.5272858142852783),\n",
              " ('tumor_cells', 0.5097643136978149),\n",
              " ('ES_cells', 0.4866572618484497),\n",
              " ('immune_cells', 0.4831920266151428),\n",
              " ('epithelial_cells', 0.47818055748939514),\n",
              " ('molecule', 0.47757473587989807),\n",
              " ('proteins', 0.4749472737312317)]"
            ]
          },
          "metadata": {},
          "execution_count": 81
        }
      ]
    },
    {
      "cell_type": "markdown",
      "source": [
        "We can also combine vectors first, and retrieve the words most similar to their mean. Here, we're combining the vectors for 'cell' and 'phone' and retrieving the vectors closest to that result."
      ],
      "metadata": {
        "id": "1YN45ETCReXK"
      }
    },
    {
      "cell_type": "code",
      "source": [
        "word_vectors.most_similar(positive=['cell', 'phone'], topn=10)"
      ],
      "metadata": {
        "id": "wvOkR7UWx1su",
        "colab": {
          "base_uri": "https://localhost:8080/"
        },
        "outputId": "83f0be51-53e2-4082-813f-f3e68ec0702d"
      },
      "execution_count": 82,
      "outputs": [
        {
          "output_type": "execute_result",
          "data": {
            "text/plain": [
              "[('cell_phone', 0.6861391067504883),\n",
              " ('cellular', 0.6757438778877258),\n",
              " ('cellphone', 0.6633196473121643),\n",
              " ('telephone', 0.6474039554595947),\n",
              " ('Phone', 0.605189323425293),\n",
              " ('phones', 0.5896332859992981),\n",
              " ('cells', 0.585094690322876),\n",
              " ('cordless_phone', 0.5711769461631775),\n",
              " ('Cell', 0.5617641806602478),\n",
              " ('landline', 0.5467296242713928)]"
            ]
          },
          "metadata": {},
          "execution_count": 82
        }
      ]
    },
    {
      "cell_type": "markdown",
      "source": [
        "Given a collection of words, the *doesn't_match* method returns the word that \"doesn't go\" with the rest (i.e. with the vector that's furthest away from the mean of all the other vectors).<br>\n",
        "https://radimrehurek.com/gensim/models/keyedvectors.html#gensim.models.keyedvectors.KeyedVectors.doesnt_match"
      ],
      "metadata": {
        "id": "PjMdhqJvR7ez"
      }
    },
    {
      "cell_type": "code",
      "source": [
        "word_vectors.doesnt_match([\"apple\", \"orange\", \"hamburger\", \"banana\", \"kiwi\"])"
      ],
      "metadata": {
        "id": "oA2NVKHPzExZ",
        "colab": {
          "base_uri": "https://localhost:8080/",
          "height": 35
        },
        "outputId": "de20456b-ec5d-426c-e060-c00aaa6a280d"
      },
      "execution_count": 83,
      "outputs": [
        {
          "output_type": "execute_result",
          "data": {
            "text/plain": [
              "'hamburger'"
            ],
            "application/vnd.google.colaboratory.intrinsic+json": {
              "type": "string"
            }
          },
          "metadata": {},
          "execution_count": 83
        }
      ]
    },
    {
      "cell_type": "markdown",
      "source": [
        "We can see the power of context in this example with 'Toyota' being correctly identified as the odd one out."
      ],
      "metadata": {
        "id": "Xajz9UFQR91b"
      }
    },
    {
      "cell_type": "code",
      "source": [
        "word_vectors.doesnt_match([\"Microsoft\", \"Apple\", \"Toyota\", \"Amazon\", \"Netflix\", \"Google\"])"
      ],
      "metadata": {
        "id": "evIAtmcVygyn",
        "colab": {
          "base_uri": "https://localhost:8080/",
          "height": 35
        },
        "outputId": "71587c21-3601-44c7-9dad-cdbd12ee560c"
      },
      "execution_count": 84,
      "outputs": [
        {
          "output_type": "execute_result",
          "data": {
            "text/plain": [
              "'Toyota'"
            ],
            "application/vnd.google.colaboratory.intrinsic+json": {
              "type": "string"
            }
          },
          "metadata": {},
          "execution_count": 84
        }
      ]
    },
    {
      "cell_type": "markdown",
      "source": [
        "Visualizing word vectors is straight-forward and can offer insights into what kind of contexts the training algorithm picked up.<br><br>\n",
        "Because these word vectors have a dimension of 300, we need to reduce them down to two dimensions to plot them on a regular graph. This can be done through **Principal Components Analysis (PCA)**:<br>\n",
        "https://scikit-learn.org/stable/modules/generated/sklearn.decomposition.PCA.html<br>\n",
        "<br>\n",
        "Here, we're plotting the words we considered in the slides."
      ],
      "metadata": {
        "id": "h6UyREbVUS6p"
      }
    },
    {
      "cell_type": "code",
      "source": [
        "def display_pca_scatterplot(model, words):\n",
        "    word_vectors = np.array([model[w] for w in words])\n",
        "\n",
        "    twodim = PCA().fit_transform(word_vectors)[:,:2]\n",
        "\n",
        "    plt.figure(figsize=(10,10))\n",
        "    plt.scatter(twodim[:,0], twodim[:,1], edgecolors='k', c='r', s=128)\n",
        "    for word, (x,y) in zip(words, twodim):\n",
        "        plt.text(x+0.05, y+0.05, word)"
      ],
      "metadata": {
        "id": "wC1e7EF0-b-s"
      },
      "execution_count": 85,
      "outputs": []
    },
    {
      "cell_type": "code",
      "source": [
        "display_pca_scatterplot(word_vectors, ['swim', 'swimming', 'cat', 'dog', 'feline', 'road', 'car', 'bus'])"
      ],
      "metadata": {
        "id": "cqmNesyaEhq_",
        "colab": {
          "base_uri": "https://localhost:8080/",
          "height": 830
        },
        "outputId": "c26e5a3e-0dd5-4a03-d058-d45804ac5794"
      },
      "execution_count": 86,
      "outputs": [
        {
          "output_type": "display_data",
          "data": {
            "text/plain": [
              "<Figure size 1000x1000 with 1 Axes>"
            ],
            "image/png": "[encoded data removed]"
          },
          "metadata": {}
        }
      ]
    },
    {
      "cell_type": "markdown",
      "source": [
        "We can even solve analogies (to a limited extent) with vector arithmetic.<br><br>\n",
        "Here, we're solving the analogy:<br>\n",
        "_Rome is to Italy as London is to __________.<br><br>\n",
        "Arithmetically, this is Italy + London - Rome.\n"
      ],
      "metadata": {
        "id": "EXE5AEEUSnEN"
      }
    },
    {
      "cell_type": "code",
      "source": [
        "word_vectors.most_similar(positive=['Italy', 'London'], negative=['Rome'], topn=3)"
      ],
      "metadata": {
        "id": "VCJZYi-1zNUI",
        "colab": {
          "base_uri": "https://localhost:8080/"
        },
        "outputId": "72c52e3d-a34b-45e5-b09c-5288071ccc79"
      },
      "execution_count": 87,
      "outputs": [
        {
          "output_type": "execute_result",
          "data": {
            "text/plain": [
              "[('UK', 0.6230568885803223),\n",
              " ('Britain', 0.6016390323638916),\n",
              " ('United_Kingdom', 0.534345805644989)]"
            ]
          },
          "metadata": {},
          "execution_count": 87
        }
      ]
    },
    {
      "cell_type": "markdown",
      "source": [
        "Visualizing it can help with geometric intuition."
      ],
      "metadata": {
        "id": "vunBH2R5XRWe"
      }
    },
    {
      "cell_type": "code",
      "source": [
        "display_pca_scatterplot(word_vectors, ['Rome', 'Italy', 'London', 'Britain', 'UK'])"
      ],
      "metadata": {
        "id": "RlH9W8q2V0Dm",
        "colab": {
          "base_uri": "https://localhost:8080/",
          "height": 830
        },
        "outputId": "6410b8ed-7092-41d5-babc-cd5932609cce"
      },
      "execution_count": 88,
      "outputs": [
        {
          "output_type": "display_data",
          "data": {
            "text/plain": [
              "<Figure size 1000x1000 with 1 Axes>"
            ],
            "image/png": "[encoded data removed]"
          },
          "metadata": {}
        }
      ]
    },
    {
      "cell_type": "markdown",
      "source": [
        "# Using Pretrained Word Vectors for Classification"
      ],
      "metadata": {
        "id": "iuDWv6NXXjoF"
      }
    },
    {
      "cell_type": "markdown",
      "source": [
        "In this section, we'll train a **Keras** model to use these Google News vectors to perform sentiment analysis on a bunch of **Yelp** reviews.\n",
        "<br><br>\n",
        "For this model, we'll increase the number of word vectors loaded to 1,000,000.\n",
        "\n"
      ],
      "metadata": {
        "id": "Am-9bvppYKuS"
      }
    },
    {
      "cell_type": "code",
      "source": [
        "%%time\n",
        "word_vectors = KeyedVectors.load_word2vec_format(embedding_file, binary=True, limit=1000000)"
      ],
      "metadata": {
        "id": "VVLj4fSMzvHJ",
        "colab": {
          "base_uri": "https://localhost:8080/"
        },
        "outputId": "ab7189ea-3e80-43de-d935-645c7718a33d"
      },
      "execution_count": 89,
      "outputs": [
        {
          "output_type": "stream",
          "name": "stdout",
          "text": [
            "CPU times: user 18 s, sys: 1.12 s, total: 19.1 s\n",
            "Wall time: 28.7 s\n"
          ]
        }
      ]
    },
    {
      "cell_type": "markdown",
      "source": [
        "The dataset we'll use is *Yelp Polarity Reviews*, a collection of ~600,000 reviews for both training and testing.<br><br>\n",
        "The original Yelp reviews use a five-star rating system. The ratings in this dataset have been modified to simply be negative (label==1) or positive (label==2).<br>\n",
        "https://www.tensorflow.org/datasets/catalog/yelp_polarity_reviews<br><br>\n",
        "Tensorflow comes with a datasets loader but we're going to download the file manually and process the data ourselves for completeness."
      ],
      "metadata": {
        "id": "vdZQNavVYxfP"
      }
    },
    {
      "cell_type": "code",
      "source": [
        "!wget -P /root/input/ -c \"https://s3.amazonaws.com/fast-ai-nlp/yelp_review_polarity_csv.tgz\""
      ],
      "metadata": {
        "id": "RcMEE11bzz_j",
        "colab": {
          "base_uri": "https://localhost:8080/"
        },
        "outputId": "3849488f-3982-4bb6-89db-e30a8780a1f3"
      },
      "execution_count": 90,
      "outputs": [
        {
          "output_type": "stream",
          "name": "stdout",
          "text": [
            "--2024-06-15 08:45:10--  https://s3.amazonaws.com/fast-ai-nlp/yelp_review_polarity_csv.tgz\n",
            "Resolving s3.amazonaws.com (s3.amazonaws.com)... 52.216.137.206, 52.216.48.112, 52.216.165.61, ...\n",
            "Connecting to s3.amazonaws.com (s3.amazonaws.com)|52.216.137.206|:443... connected.\n",
            "HTTP request sent, awaiting response... 416 Requested Range Not Satisfiable\n",
            "\n",
            "    The file is already fully retrieved; nothing to do.\n",
            "\n"
          ]
        }
      ]
    },
    {
      "cell_type": "markdown",
      "source": [
        "Unzipping the archive results in *train.csv* and *test.csv* files placed in the default *contents* folder of our environment."
      ],
      "metadata": {
        "id": "wnTnApF4aq7k"
      }
    },
    {
      "cell_type": "code",
      "source": [
        "!tar xvzf /root/input/yelp_review_polarity_csv.tgz\n",
        "\n",
        "# Show current working directory.\n",
        "!pwd"
      ],
      "metadata": {
        "id": "-UK1y9kjzz7y",
        "colab": {
          "base_uri": "https://localhost:8080/"
        },
        "outputId": "b9fa188b-a237-46e4-cfd4-bc03a8e8e600"
      },
      "execution_count": 91,
      "outputs": [
        {
          "output_type": "stream",
          "name": "stdout",
          "text": [
            "yelp_review_polarity_csv/\n",
            "yelp_review_polarity_csv/train.csv\n",
            "yelp_review_polarity_csv/readme.txt\n",
            "yelp_review_polarity_csv/test.csv\n",
            "/content\n"
          ]
        }
      ]
    },
    {
      "cell_type": "markdown",
      "source": [
        "The **Pandas** library makes it simple to load a CSV file into memory and manipulate the data.<br>\n",
        "https://pandas.pydata.org/<br>\n",
        "https://pandas.pydata.org/docs/<br>\n",
        "https://pandas.pydata.org/docs/reference/api/pandas.read_csv.html?highlight=read_csv"
      ],
      "metadata": {
        "id": "OaJCSM3lbK-E"
      }
    },
    {
      "cell_type": "markdown",
      "source": [
        "Here, we're loading the CSV into a Pandas **dataframe** (sort of like an in-memory table) and explicitly naming the columns.<br>\n",
        "https://pandas.pydata.org/docs/reference/api/pandas.DataFrame.html?highlight=dataframe#pandas.DataFrame"
      ],
      "metadata": {
        "id": "xIG4UVMkbq9E"
      }
    },
    {
      "cell_type": "code",
      "source": [
        "yelp_train = pd.read_csv('yelp_review_polarity_csv/train.csv', names=['sentiment', 'review'])\n",
        "print(yelp_train.shape)"
      ],
      "metadata": {
        "id": "tdLoK1Jozz0Z",
        "colab": {
          "base_uri": "https://localhost:8080/"
        },
        "outputId": "475073d2-ccb1-48cb-c4a0-a69ae9f4188d"
      },
      "execution_count": 92,
      "outputs": [
        {
          "output_type": "stream",
          "name": "stdout",
          "text": [
            "(560000, 2)\n"
          ]
        }
      ]
    },
    {
      "cell_type": "markdown",
      "source": [
        "We can get a quick view of the data through the *head* method.<br>\n",
        "https://pandas.pydata.org/docs/reference/api/pandas.DataFrame.head.html"
      ],
      "metadata": {
        "id": "lGgJl1QCb738"
      }
    },
    {
      "cell_type": "code",
      "source": [
        "yelp_train.head()"
      ],
      "metadata": {
        "id": "jVHtVqOBzzwS",
        "colab": {
          "base_uri": "https://localhost:8080/",
          "height": 206
        },
        "outputId": "b24f729c-9020-4d8a-a272-6128326eeb3b"
      },
      "execution_count": 93,
      "outputs": [
        {
          "output_type": "execute_result",
          "data": {
            "text/plain": [
              "   sentiment                                             review\n",
              "0          1  Unfortunately, the frustration of being Dr. Go...\n",
              "1          2  Been going to Dr. Goldberg for over 10 years. ...\n",
              "2          1  I don't know what Dr. Goldberg was like before...\n",
              "3          1  I'm writing this review to give you a heads up...\n",
              "4          2  All the food is great here. But the best thing..."
            ],
            "text/html": [
              "\n",
              "  <div id=\"df-daad17df-889b-4d18-9b27-c1242de31a7a\" class=\"colab-df-container\">\n",
              "    <div>\n",
              "<style scoped>\n",
              "    .dataframe tbody tr th:only-of-type {\n",
              "        vertical-align: middle;\n",
              "    }\n",
              "\n",
              "    .dataframe tbody tr th {\n",
              "        vertical-align: top;\n",
              "    }\n",
              "\n",
              "    .dataframe thead th {\n",
              "        text-align: right;\n",
              "    }\n",
              "</style>\n",
              "<table border=\"1\" class=\"dataframe\">\n",
              "  <thead>\n",
              "    <tr style=\"text-align: right;\">\n",
              "      <th></th>\n",
              "      <th>sentiment</th>\n",
              "      <th>review</th>\n",
              "    </tr>\n",
              "  </thead>\n",
              "  <tbody>\n",
              "    <tr>\n",
              "      <th>0</th>\n",
              "      <td>1</td>\n",
              "      <td>Unfortunately, the frustration of being Dr. Go...</td>\n",
              "    </tr>\n",
              "    <tr>\n",
              "      <th>1</th>\n",
              "      <td>2</td>\n",
              "      <td>Been going to Dr. Goldberg for over 10 years. ...</td>\n",
              "    </tr>\n",
              "    <tr>\n",
              "      <th>2</th>\n",
              "      <td>1</td>\n",
              "      <td>I don't know what Dr. Goldberg was like before...</td>\n",
              "    </tr>\n",
              "    <tr>\n",
              "      <th>3</th>\n",
              "      <td>1</td>\n",
              "      <td>I'm writing this review to give you a heads up...</td>\n",
              "    </tr>\n",
              "    <tr>\n",
              "      <th>4</th>\n",
              "      <td>2</td>\n",
              "      <td>All the food is great here. But the best thing...</td>\n",
              "    </tr>\n",
              "  </tbody>\n",
              "</table>\n",
              "</div>\n",
              "    <div class=\"colab-df-buttons\">\n",
              "\n",
              "  <div class=\"colab-df-container\">\n",
              "    <button class=\"colab-df-convert\" onclick=\"convertToInteractive('df-daad17df-889b-4d18-9b27-c1242de31a7a')\"\n",
              "            title=\"Convert this dataframe to an interactive table.\"\n",
              "            style=\"display:none;\">\n",
              "\n",
              "  <svg xmlns=\"http://www.w3.org/2000/svg\" height=\"24px\" viewBox=\"0 -960 960 960\">\n",
              "    <path d=\"M120-120v-720h720v720H120Zm60-500h600v-160H180v160Zm220 220h160v-160H400v160Zm0 220h160v-160H400v160ZM180-400h160v-160H180v160Zm440 0h160v-160H620v160ZM180-180h160v-160H180v160Zm440 0h160v-160H620v160Z\"/>\n",
              "  </svg>\n",
              "    </button>\n",
              "\n",
              "  <style>\n",
              "    .colab-df-container {\n",
              "      display:flex;\n",
              "      gap: 12px;\n",
              "    }\n",
              "\n",
              "    .colab-df-convert {\n",
              "      background-color: #E8F0FE;\n",
              "      border: none;\n",
              "      border-radius: 50%;\n",
              "      cursor: pointer;\n",
              "      display: none;\n",
              "      fill: #1967D2;\n",
              "      height: 32px;\n",
              "      padding: 0 0 0 0;\n",
              "      width: 32px;\n",
              "    }\n",
              "\n",
              "    .colab-df-convert:hover {\n",
              "      background-color: #E2EBFA;\n",
              "      box-shadow: 0px 1px 2px rgba(60, 64, 67, 0.3), 0px 1px 3px 1px rgba(60, 64, 67, 0.15);\n",
              "      fill: #174EA6;\n",
              "    }\n",
              "\n",
              "    .colab-df-buttons div {\n",
              "      margin-bottom: 4px;\n",
              "    }\n",
              "\n",
              "    [theme=dark] .colab-df-convert {\n",
              "      background-color: #3B4455;\n",
              "      fill: #D2E3FC;\n",
              "    }\n",
              "\n",
              "    [theme=dark] .colab-df-convert:hover {\n",
              "      background-color: #434B5C;\n",
              "      box-shadow: 0px 1px 3px 1px rgba(0, 0, 0, 0.15);\n",
              "      filter: drop-shadow(0px 1px 2px rgba(0, 0, 0, 0.3));\n",
              "      fill: #FFFFFF;\n",
              "    }\n",
              "  </style>\n",
              "\n",
              "    <script>\n",
              "      const buttonEl =\n",
              "        document.querySelector('#df-daad17df-889b-4d18-9b27-c1242de31a7a button.colab-df-convert');\n",
              "      buttonEl.style.display =\n",
              "        google.colab.kernel.accessAllowed ? 'block' : 'none';\n",
              "\n",
              "      async function convertToInteractive(key) {\n",
              "        const element = document.querySelector('#df-daad17df-889b-4d18-9b27-c1242de31a7a');\n",
              "        const dataTable =\n",
              "          await google.colab.kernel.invokeFunction('convertToInteractive',\n",
              "                                                    [key], {});\n",
              "        if (!dataTable) return;\n",
              "\n",
              "        const docLinkHtml = 'Like what you see? Visit the ' +\n",
              "          '<a target=\"_blank\" href=https://colab.research.google.com/notebooks/data_table.ipynb>data table notebook</a>'\n",
              "          + ' to learn more about interactive tables.';\n",
              "        element.innerHTML = '';\n",
              "        dataTable['output_type'] = 'display_data';\n",
              "        await google.colab.output.renderOutput(dataTable, element);\n",
              "        const docLink = document.createElement('div');\n",
              "        docLink.innerHTML = docLinkHtml;\n",
              "        element.appendChild(docLink);\n",
              "      }\n",
              "    </script>\n",
              "  </div>\n",
              "\n",
              "\n",
              "<div id=\"df-f0102bbf-c84b-46f6-9a06-43523245780e\">\n",
              "  <button class=\"colab-df-quickchart\" onclick=\"quickchart('df-f0102bbf-c84b-46f6-9a06-43523245780e')\"\n",
              "            title=\"Suggest charts\"\n",
              "            style=\"display:none;\">\n",
              "\n",
              "<svg xmlns=\"http://www.w3.org/2000/svg\" height=\"24px\"viewBox=\"0 0 24 24\"\n",
              "     width=\"24px\">\n",
              "    <g>\n",
              "        <path d=\"M19 3H5c-1.1 0-2 .9-2 2v14c0 1.1.9 2 2 2h14c1.1 0 2-.9 2-2V5c0-1.1-.9-2-2-2zM9 17H7v-7h2v7zm4 0h-2V7h2v10zm4 0h-2v-4h2v4z\"/>\n",
              "    </g>\n",
              "</svg>\n",
              "  </button>\n",
              "\n",
              "<style>\n",
              "  .colab-df-quickchart {\n",
              "      --bg-color: #E8F0FE;\n",
              "      --fill-color: #1967D2;\n",
              "      --hover-bg-color: #E2EBFA;\n",
              "      --hover-fill-color: #174EA6;\n",
              "      --disabled-fill-color: #AAA;\n",
              "      --disabled-bg-color: #DDD;\n",
              "  }\n",
              "\n",
              "  [theme=dark] .colab-df-quickchart {\n",
              "      --bg-color: #3B4455;\n",
              "      --fill-color: #D2E3FC;\n",
              "      --hover-bg-color: #434B5C;\n",
              "      --hover-fill-color: #FFFFFF;\n",
              "      --disabled-bg-color: #3B4455;\n",
              "      --disabled-fill-color: #666;\n",
              "  }\n",
              "\n",
              "  .colab-df-quickchart {\n",
              "    background-color: var(--bg-color);\n",
              "    border: none;\n",
              "    border-radius: 50%;\n",
              "    cursor: pointer;\n",
              "    display: none;\n",
              "    fill: var(--fill-color);\n",
              "    height: 32px;\n",
              "    padding: 0;\n",
              "    width: 32px;\n",
              "  }\n",
              "\n",
              "  .colab-df-quickchart:hover {\n",
              "    background-color: var(--hover-bg-color);\n",
              "    box-shadow: 0 1px 2px rgba(60, 64, 67, 0.3), 0 1px 3px 1px rgba(60, 64, 67, 0.15);\n",
              "    fill: var(--button-hover-fill-color);\n",
              "  }\n",
              "\n",
              "  .colab-df-quickchart-complete:disabled,\n",
              "  .colab-df-quickchart-complete:disabled:hover {\n",
              "    background-color: var(--disabled-bg-color);\n",
              "    fill: var(--disabled-fill-color);\n",
              "    box-shadow: none;\n",
              "  }\n",
              "\n",
              "  .colab-df-spinner {\n",
              "    border: 2px solid var(--fill-color);\n",
              "    border-color: transparent;\n",
              "    border-bottom-color: var(--fill-color);\n",
              "    animation:\n",
              "      spin 1s steps(1) infinite;\n",
              "  }\n",
              "\n",
              "  @keyframes spin {\n",
              "    0% {\n",
              "      border-color: transparent;\n",
              "      border-bottom-color: var(--fill-color);\n",
              "      border-left-color: var(--fill-color);\n",
              "    }\n",
              "    20% {\n",
              "      border-color: transparent;\n",
              "      border-left-color: var(--fill-color);\n",
              "      border-top-color: var(--fill-color);\n",
              "    }\n",
              "    30% {\n",
              "      border-color: transparent;\n",
              "      border-left-color: var(--fill-color);\n",
              "      border-top-color: var(--fill-color);\n",
              "      border-right-color: var(--fill-color);\n",
              "    }\n",
              "    40% {\n",
              "      border-color: transparent;\n",
              "      border-right-color: var(--fill-color);\n",
              "      border-top-color: var(--fill-color);\n",
              "    }\n",
              "    60% {\n",
              "      border-color: transparent;\n",
              "      border-right-color: var(--fill-color);\n",
              "    }\n",
              "    80% {\n",
              "      border-color: transparent;\n",
              "      border-right-color: var(--fill-color);\n",
              "      border-bottom-color: var(--fill-color);\n",
              "    }\n",
              "    90% {\n",
              "      border-color: transparent;\n",
              "      border-bottom-color: var(--fill-color);\n",
              "    }\n",
              "  }\n",
              "</style>\n",
              "\n",
              "  <script>\n",
              "    async function quickchart(key) {\n",
              "      const quickchartButtonEl =\n",
              "        document.querySelector('#' + key + ' button');\n",
              "      quickchartButtonEl.disabled = true;  // To prevent multiple clicks.\n",
              "      quickchartButtonEl.classList.add('colab-df-spinner');\n",
              "      try {\n",
              "        const charts = await google.colab.kernel.invokeFunction(\n",
              "            'suggestCharts', [key], {});\n",
              "      } catch (error) {\n",
              "        console.error('Error during call to suggestCharts:', error);\n",
              "      }\n",
              "      quickchartButtonEl.classList.remove('colab-df-spinner');\n",
              "      quickchartButtonEl.classList.add('colab-df-quickchart-complete');\n",
              "    }\n",
              "    (() => {\n",
              "      let quickchartButtonEl =\n",
              "        document.querySelector('#df-f0102bbf-c84b-46f6-9a06-43523245780e button');\n",
              "      quickchartButtonEl.style.display =\n",
              "        google.colab.kernel.accessAllowed ? 'block' : 'none';\n",
              "    })();\n",
              "  </script>\n",
              "</div>\n",
              "\n",
              "    </div>\n",
              "  </div>\n"
            ],
            "application/vnd.google.colaboratory.intrinsic+json": {
              "type": "dataframe",
              "variable_name": "yelp_train"
            }
          },
          "metadata": {},
          "execution_count": 93
        }
      ]
    },
    {
      "cell_type": "markdown",
      "source": [
        "To save on training time, we'll train on 100,000 reviews rather than the full set. To do that, we'll shuffle the dataset using the *sample* method and *copy* the first 100,000 entries. The reason to shuffle first is to ensure we get a mix of reviews from a variety of businesses (in case the data is sorted in some way).<br>\n",
        "https://pandas.pydata.org/docs/reference/api/pandas.DataFrame.sample.html<br>\n",
        "https://pandas.pydata.org/docs/reference/api/pandas.DataFrame.copy.html\n"
      ],
      "metadata": {
        "id": "9wS0o4gEclCT"
      }
    },
    {
      "cell_type": "code",
      "source": [
        "TRAIN_SIZE = 100000\n",
        "yelp_train = yelp_train.sample(frac=1, random_state=1)[:TRAIN_SIZE].copy()\n",
        "print(yelp_train.shape)"
      ],
      "metadata": {
        "id": "YacSH4F0c5aU",
        "colab": {
          "base_uri": "https://localhost:8080/"
        },
        "outputId": "de637712-17c3-43bc-b8cf-1e2c8569a391"
      },
      "execution_count": 94,
      "outputs": [
        {
          "output_type": "stream",
          "name": "stdout",
          "text": [
            "(100000, 2)\n"
          ]
        }
      ]
    },
    {
      "cell_type": "markdown",
      "source": [
        "The next thing to do is adjust the labels. This is a **binary classification problem**, so our model's output layer will be a single unit with a **sigmoid** activation function. This function's output will be between 0 and 1 which is then compared against the training label. But the labels are currently 1 for negative, and 2 for positive, which is going to cause problems when calculating the loss.<br><br>\n",
        "So we'll simply replace the 1s with 0s, and 2s with 1s using the *replace* method.<br>\n",
        "https://pandas.pydata.org/docs/reference/api/pandas.DataFrame.replace.html\n",
        "<br><br>\n",
        "Alternatively, we could keep the labels as-is and treat this as a **multiclassification** problem with two labels and use a **softmax**, but we would then need to **one-hot encode** the labels (at least based on what we've learnt so far).\n"
      ],
      "metadata": {
        "id": "DLraxnTMd9iE"
      }
    },
    {
      "cell_type": "code",
      "source": [
        "yelp_train['sentiment'].replace(to_replace=1, value=0, inplace=True)\n",
        "yelp_train['sentiment'].replace(to_replace=2, value=1, inplace=True)"
      ],
      "metadata": {
        "id": "kbmYKm-SjGnm"
      },
      "execution_count": 95,
      "outputs": []
    },
    {
      "cell_type": "code",
      "source": [
        "yelp_train.head()"
      ],
      "metadata": {
        "id": "LlzWLECijrg_",
        "colab": {
          "base_uri": "https://localhost:8080/",
          "height": 206
        },
        "outputId": "f9e76992-4671-41c3-f5bc-f79721d30527"
      },
      "execution_count": 96,
      "outputs": [
        {
          "output_type": "execute_result",
          "data": {
            "text/plain": [
              "        sentiment                                             review\n",
              "39658           1  omg, the grandma g's pizza with rosemary chick...\n",
              "330033          0  Microwaved food over over over seasoned gyro m...\n",
              "238898          0  While the food is good, the service leaves a l...\n",
              "453536          0  Called the Chandler PD about the sign spinner ...\n",
              "555973          1  Just took Ewok, my approx. 6 month old shih tz..."
            ],
            "text/html": [
              "\n",
              "  <div id=\"df-b382c28b-7ce5-48e0-82a5-12376e983441\" class=\"colab-df-container\">\n",
              "    <div>\n",
              "<style scoped>\n",
              "    .dataframe tbody tr th:only-of-type {\n",
              "        vertical-align: middle;\n",
              "    }\n",
              "\n",
              "    .dataframe tbody tr th {\n",
              "        vertical-align: top;\n",
              "    }\n",
              "\n",
              "    .dataframe thead th {\n",
              "        text-align: right;\n",
              "    }\n",
              "</style>\n",
              "<table border=\"1\" class=\"dataframe\">\n",
              "  <thead>\n",
              "    <tr style=\"text-align: right;\">\n",
              "      <th></th>\n",
              "      <th>sentiment</th>\n",
              "      <th>review</th>\n",
              "    </tr>\n",
              "  </thead>\n",
              "  <tbody>\n",
              "    <tr>\n",
              "      <th>39658</th>\n",
              "      <td>1</td>\n",
              "      <td>omg, the grandma g's pizza with rosemary chick...</td>\n",
              "    </tr>\n",
              "    <tr>\n",
              "      <th>330033</th>\n",
              "      <td>0</td>\n",
              "      <td>Microwaved food over over over seasoned gyro m...</td>\n",
              "    </tr>\n",
              "    <tr>\n",
              "      <th>238898</th>\n",
              "      <td>0</td>\n",
              "      <td>While the food is good, the service leaves a l...</td>\n",
              "    </tr>\n",
              "    <tr>\n",
              "      <th>453536</th>\n",
              "      <td>0</td>\n",
              "      <td>Called the Chandler PD about the sign spinner ...</td>\n",
              "    </tr>\n",
              "    <tr>\n",
              "      <th>555973</th>\n",
              "      <td>1</td>\n",
              "      <td>Just took Ewok, my approx. 6 month old shih tz...</td>\n",
              "    </tr>\n",
              "  </tbody>\n",
              "</table>\n",
              "</div>\n",
              "    <div class=\"colab-df-buttons\">\n",
              "\n",
              "  <div class=\"colab-df-container\">\n",
              "    <button class=\"colab-df-convert\" onclick=\"convertToInteractive('df-b382c28b-7ce5-48e0-82a5-12376e983441')\"\n",
              "            title=\"Convert this dataframe to an interactive table.\"\n",
              "            style=\"display:none;\">\n",
              "\n",
              "  <svg xmlns=\"http://www.w3.org/2000/svg\" height=\"24px\" viewBox=\"0 -960 960 960\">\n",
              "    <path d=\"M120-120v-720h720v720H120Zm60-500h600v-160H180v160Zm220 220h160v-160H400v160Zm0 220h160v-160H400v160ZM180-400h160v-160H180v160Zm440 0h160v-160H620v160ZM180-180h160v-160H180v160Zm440 0h160v-160H620v160Z\"/>\n",
              "  </svg>\n",
              "    </button>\n",
              "\n",
              "  <style>\n",
              "    .colab-df-container {\n",
              "      display:flex;\n",
              "      gap: 12px;\n",
              "    }\n",
              "\n",
              "    .colab-df-convert {\n",
              "      background-color: #E8F0FE;\n",
              "      border: none;\n",
              "      border-radius: 50%;\n",
              "      cursor: pointer;\n",
              "      display: none;\n",
              "      fill: #1967D2;\n",
              "      height: 32px;\n",
              "      padding: 0 0 0 0;\n",
              "      width: 32px;\n",
              "    }\n",
              "\n",
              "    .colab-df-convert:hover {\n",
              "      background-color: #E2EBFA;\n",
              "      box-shadow: 0px 1px 2px rgba(60, 64, 67, 0.3), 0px 1px 3px 1px rgba(60, 64, 67, 0.15);\n",
              "      fill: #174EA6;\n",
              "    }\n",
              "\n",
              "    .colab-df-buttons div {\n",
              "      margin-bottom: 4px;\n",
              "    }\n",
              "\n",
              "    [theme=dark] .colab-df-convert {\n",
              "      background-color: #3B4455;\n",
              "      fill: #D2E3FC;\n",
              "    }\n",
              "\n",
              "    [theme=dark] .colab-df-convert:hover {\n",
              "      background-color: #434B5C;\n",
              "      box-shadow: 0px 1px 3px 1px rgba(0, 0, 0, 0.15);\n",
              "      filter: drop-shadow(0px 1px 2px rgba(0, 0, 0, 0.3));\n",
              "      fill: #FFFFFF;\n",
              "    }\n",
              "  </style>\n",
              "\n",
              "    <script>\n",
              "      const buttonEl =\n",
              "        document.querySelector('#df-b382c28b-7ce5-48e0-82a5-12376e983441 button.colab-df-convert');\n",
              "      buttonEl.style.display =\n",
              "        google.colab.kernel.accessAllowed ? 'block' : 'none';\n",
              "\n",
              "      async function convertToInteractive(key) {\n",
              "        const element = document.querySelector('#df-b382c28b-7ce5-48e0-82a5-12376e983441');\n",
              "        const dataTable =\n",
              "          await google.colab.kernel.invokeFunction('convertToInteractive',\n",
              "                                                    [key], {});\n",
              "        if (!dataTable) return;\n",
              "\n",
              "        const docLinkHtml = 'Like what you see? Visit the ' +\n",
              "          '<a target=\"_blank\" href=https://colab.research.google.com/notebooks/data_table.ipynb>data table notebook</a>'\n",
              "          + ' to learn more about interactive tables.';\n",
              "        element.innerHTML = '';\n",
              "        dataTable['output_type'] = 'display_data';\n",
              "        await google.colab.output.renderOutput(dataTable, element);\n",
              "        const docLink = document.createElement('div');\n",
              "        docLink.innerHTML = docLinkHtml;\n",
              "        element.appendChild(docLink);\n",
              "      }\n",
              "    </script>\n",
              "  </div>\n",
              "\n",
              "\n",
              "<div id=\"df-3f76b12b-226f-4501-95b1-de576d776a5f\">\n",
              "  <button class=\"colab-df-quickchart\" onclick=\"quickchart('df-3f76b12b-226f-4501-95b1-de576d776a5f')\"\n",
              "            title=\"Suggest charts\"\n",
              "            style=\"display:none;\">\n",
              "\n",
              "<svg xmlns=\"http://www.w3.org/2000/svg\" height=\"24px\"viewBox=\"0 0 24 24\"\n",
              "     width=\"24px\">\n",
              "    <g>\n",
              "        <path d=\"M19 3H5c-1.1 0-2 .9-2 2v14c0 1.1.9 2 2 2h14c1.1 0 2-.9 2-2V5c0-1.1-.9-2-2-2zM9 17H7v-7h2v7zm4 0h-2V7h2v10zm4 0h-2v-4h2v4z\"/>\n",
              "    </g>\n",
              "</svg>\n",
              "  </button>\n",
              "\n",
              "<style>\n",
              "  .colab-df-quickchart {\n",
              "      --bg-color: #E8F0FE;\n",
              "      --fill-color: #1967D2;\n",
              "      --hover-bg-color: #E2EBFA;\n",
              "      --hover-fill-color: #174EA6;\n",
              "      --disabled-fill-color: #AAA;\n",
              "      --disabled-bg-color: #DDD;\n",
              "  }\n",
              "\n",
              "  [theme=dark] .colab-df-quickchart {\n",
              "      --bg-color: #3B4455;\n",
              "      --fill-color: #D2E3FC;\n",
              "      --hover-bg-color: #434B5C;\n",
              "      --hover-fill-color: #FFFFFF;\n",
              "      --disabled-bg-color: #3B4455;\n",
              "      --disabled-fill-color: #666;\n",
              "  }\n",
              "\n",
              "  .colab-df-quickchart {\n",
              "    background-color: var(--bg-color);\n",
              "    border: none;\n",
              "    border-radius: 50%;\n",
              "    cursor: pointer;\n",
              "    display: none;\n",
              "    fill: var(--fill-color);\n",
              "    height: 32px;\n",
              "    padding: 0;\n",
              "    width: 32px;\n",
              "  }\n",
              "\n",
              "  .colab-df-quickchart:hover {\n",
              "    background-color: var(--hover-bg-color);\n",
              "    box-shadow: 0 1px 2px rgba(60, 64, 67, 0.3), 0 1px 3px 1px rgba(60, 64, 67, 0.15);\n",
              "    fill: var(--button-hover-fill-color);\n",
              "  }\n",
              "\n",
              "  .colab-df-quickchart-complete:disabled,\n",
              "  .colab-df-quickchart-complete:disabled:hover {\n",
              "    background-color: var(--disabled-bg-color);\n",
              "    fill: var(--disabled-fill-color);\n",
              "    box-shadow: none;\n",
              "  }\n",
              "\n",
              "  .colab-df-spinner {\n",
              "    border: 2px solid var(--fill-color);\n",
              "    border-color: transparent;\n",
              "    border-bottom-color: var(--fill-color);\n",
              "    animation:\n",
              "      spin 1s steps(1) infinite;\n",
              "  }\n",
              "\n",
              "  @keyframes spin {\n",
              "    0% {\n",
              "      border-color: transparent;\n",
              "      border-bottom-color: var(--fill-color);\n",
              "      border-left-color: var(--fill-color);\n",
              "    }\n",
              "    20% {\n",
              "      border-color: transparent;\n",
              "      border-left-color: var(--fill-color);\n",
              "      border-top-color: var(--fill-color);\n",
              "    }\n",
              "    30% {\n",
              "      border-color: transparent;\n",
              "      border-left-color: var(--fill-color);\n",
              "      border-top-color: var(--fill-color);\n",
              "      border-right-color: var(--fill-color);\n",
              "    }\n",
              "    40% {\n",
              "      border-color: transparent;\n",
              "      border-right-color: var(--fill-color);\n",
              "      border-top-color: var(--fill-color);\n",
              "    }\n",
              "    60% {\n",
              "      border-color: transparent;\n",
              "      border-right-color: var(--fill-color);\n",
              "    }\n",
              "    80% {\n",
              "      border-color: transparent;\n",
              "      border-right-color: var(--fill-color);\n",
              "      border-bottom-color: var(--fill-color);\n",
              "    }\n",
              "    90% {\n",
              "      border-color: transparent;\n",
              "      border-bottom-color: var(--fill-color);\n",
              "    }\n",
              "  }\n",
              "</style>\n",
              "\n",
              "  <script>\n",
              "    async function quickchart(key) {\n",
              "      const quickchartButtonEl =\n",
              "        document.querySelector('#' + key + ' button');\n",
              "      quickchartButtonEl.disabled = true;  // To prevent multiple clicks.\n",
              "      quickchartButtonEl.classList.add('colab-df-spinner');\n",
              "      try {\n",
              "        const charts = await google.colab.kernel.invokeFunction(\n",
              "            'suggestCharts', [key], {});\n",
              "      } catch (error) {\n",
              "        console.error('Error during call to suggestCharts:', error);\n",
              "      }\n",
              "      quickchartButtonEl.classList.remove('colab-df-spinner');\n",
              "      quickchartButtonEl.classList.add('colab-df-quickchart-complete');\n",
              "    }\n",
              "    (() => {\n",
              "      let quickchartButtonEl =\n",
              "        document.querySelector('#df-3f76b12b-226f-4501-95b1-de576d776a5f button');\n",
              "      quickchartButtonEl.style.display =\n",
              "        google.colab.kernel.accessAllowed ? 'block' : 'none';\n",
              "    })();\n",
              "  </script>\n",
              "</div>\n",
              "\n",
              "    </div>\n",
              "  </div>\n"
            ],
            "application/vnd.google.colaboratory.intrinsic+json": {
              "type": "dataframe",
              "variable_name": "yelp_train",
              "summary": "{\n  \"name\": \"yelp_train\",\n  \"rows\": 100000,\n  \"fields\": [\n    {\n      \"column\": \"sentiment\",\n      \"properties\": {\n        \"dtype\": \"number\",\n        \"std\": 0,\n        \"min\": 0,\n        \"max\": 1,\n        \"num_unique_values\": 2,\n        \"samples\": [\n          0,\n          1\n        ],\n        \"semantic_type\": \"\",\n        \"description\": \"\"\n      }\n    },\n    {\n      \"column\": \"review\",\n      \"properties\": {\n        \"dtype\": \"string\",\n        \"num_unique_values\": 100000,\n        \"samples\": [\n          \"To start with, there is always a line and a wait to get in, even if half the restaurant is empty. You'd think this may be to take the time to clean tables, but unfortunately it isn't. I think they do it to make it look popular to people passing by. \\\\nBack to the cleanliness, or lack thereof - under the table was so dirty that we were accidental kicking debris on each other when simply shifting our feet around. So disgusting! At least they wiped the table and seats down just before we were seated, because hey, what's better than sitting on wet vinyl seats. By the way, there were still crumbs on the seat. \\\\nThe burgers consist of previously frozen patties that aren't very good and pretty decent veggies. Not really what you're looking for when you are dropping this much money on a burger. Just save some money and go up one floor to Mickey Ds. \\\\nTheir other food isn't a great value either. For example, $8 will get you 5 alright onion rings. Stay away from the shakes, unless you aren't picky. \\\\nService was very slow. Ambiance was kind of cool 50s diner, only with a very loud sound system. \\\\nWe felt like we were in a glorified karaoke bar with the waitresses making announcements and singing at odd times. \\\\nThere is no reason to visit this place. You have the golden arches one floor up or IHOP just down the street. Either will be cheaper and have same quality food.\",\n          \"Methinks not... but the employees were awesome and they do serve $1 PBRs. \\\\n\\\\nMill is not known for having great food options and Fatburger lives up to that reputation. The burger patty was very surprising thin. This chain must have gone down hill pretty fast after their rapid expansion. The prices are a little much for what you get. I would at least expect the bun and other ingredients to have been fresh, but I was disappointed.\\\\n\\\\nTry eating elsewhere!\"\n        ],\n        \"semantic_type\": \"\",\n        \"description\": \"\"\n      }\n    }\n  ]\n}"
            }
          },
          "metadata": {},
          "execution_count": 96
        }
      ]
    },
    {
      "cell_type": "markdown",
      "source": [
        "As we've done throughout this course, we'll create train/validation splits.<br>\n",
        "https://scikit-learn.org/stable/modules/generated/sklearn.model_selection.train_test_split.html"
      ],
      "metadata": {
        "id": "rILnYdQMgIlh"
      }
    },
    {
      "cell_type": "code",
      "source": [
        "yelp_train_split, yelp_val_split = train_test_split(yelp_train, train_size=0.85, random_state=1)"
      ],
      "metadata": {
        "id": "CC-VSNcn7Cpq"
      },
      "execution_count": 97,
      "outputs": []
    },
    {
      "cell_type": "code",
      "source": [
        "# Set up training data.\n",
        "train_reviews = yelp_train_split['review']\n",
        "y_train = np.array(yelp_train_split['sentiment'])\n",
        "\n",
        "# Set up validation data.\n",
        "val_reviews = yelp_val_split['review']\n",
        "y_val = np.array(yelp_val_split['sentiment'])"
      ],
      "metadata": {
        "id": "9Xj4WyLb7Wdr"
      },
      "execution_count": 98,
      "outputs": []
    },
    {
      "cell_type": "markdown",
      "source": [
        "A quick sanity check to see how our data is distributed (e.g. balanced or skewed)."
      ],
      "metadata": {
        "id": "CK9V0dJAgbSJ"
      }
    },
    {
      "cell_type": "code",
      "source": [
        "collections.Counter(y_train)"
      ],
      "metadata": {
        "id": "MHBWB2vc7ie1",
        "colab": {
          "base_uri": "https://localhost:8080/"
        },
        "outputId": "b31571db-55d1-4802-9bdd-23c6e10d26c3"
      },
      "execution_count": 99,
      "outputs": [
        {
          "output_type": "execute_result",
          "data": {
            "text/plain": [
              "Counter({0: 42395, 1: 42605})"
            ]
          },
          "metadata": {},
          "execution_count": 99
        }
      ]
    },
    {
      "cell_type": "markdown",
      "source": [
        "Because we're relying more on richer encodings (in this case, word vectors), we won't perform as much preprocessing this time around. We'll stick with using the regular Keras **tokenizer** and just filter out numbers and certain symbols.<br>\n",
        "https://www.tensorflow.org/api_docs/python/tf/keras/preprocessing/text/Tokenizer<br><br>\n",
        "We'll also have the tokenizer limit itself to tokenizing only the most frequent 20,000 words. This way, the model will focus on the most frequent descriptive sentiment words."
      ],
      "metadata": {
        "id": "M0fM5vRygqfq"
      }
    },
    {
      "cell_type": "code",
      "source": [
        "tokenizer = keras.preprocessing.text.Tokenizer(num_words=20000,\n",
        "                                               filters='0123456789!\"#$%&()*+,-./:;<=>?@[\\]^_`{|}~',\n",
        "                                               lower=True)"
      ],
      "metadata": {
        "id": "UI4FgHPa4p2T"
      },
      "execution_count": 100,
      "outputs": []
    },
    {
      "cell_type": "markdown",
      "source": [
        "Build the vocabulary."
      ],
      "metadata": {
        "id": "gXQXX82chivF"
      }
    },
    {
      "cell_type": "code",
      "source": [
        "%%time\n",
        "tokenizer.fit_on_texts(train_reviews)"
      ],
      "metadata": {
        "id": "ayGLszCqzzoK",
        "colab": {
          "base_uri": "https://localhost:8080/"
        },
        "outputId": "f0577634-bb6b-4d92-f5ea-b0d4ba747fa7"
      },
      "execution_count": 101,
      "outputs": [
        {
          "output_type": "stream",
          "name": "stdout",
          "text": [
            "CPU times: user 8.03 s, sys: 38.7 ms, total: 8.06 s\n",
            "Wall time: 8.13 s\n"
          ]
        }
      ]
    },
    {
      "cell_type": "markdown",
      "source": [
        "The next step is to vectorize our reviews. In the [_Neural Network Foundations_](https://github.com/futuremojo/nlp-demystified/blob/main/notebooks/nlpdemystified_neural_networks_foundations.ipynb) notebook, we used the *texts_to_matrix* method to turn text into binary bags of words.<br><br>\n",
        "Here, we're going to use the *text_to_sequences* method to turn each review into a sequence of integers, with each integer representing its corresponding token.<br>\n",
        "https://www.tensorflow.org/api_docs/python/tf/keras/preprocessing/text/Tokenizer#texts_to_sequences\n",
        "\n"
      ],
      "metadata": {
        "id": "v5zDD6RCBzxH"
      }
    },
    {
      "cell_type": "code",
      "source": [
        "%%time\n",
        "X_train = tokenizer.texts_to_sequences(train_reviews)"
      ],
      "metadata": {
        "id": "OAd431jp6Ydg",
        "colab": {
          "base_uri": "https://localhost:8080/"
        },
        "outputId": "2c82bcc8-da90-4099-edc0-b8b4936c5f35"
      },
      "execution_count": 102,
      "outputs": [
        {
          "output_type": "stream",
          "name": "stdout",
          "text": [
            "CPU times: user 6.92 s, sys: 60.5 ms, total: 6.98 s\n",
            "Wall time: 7.13 s\n"
          ]
        }
      ]
    },
    {
      "cell_type": "code",
      "source": [
        "# The first review in the training set, vectorized.\n",
        "print(X_train[0])"
      ],
      "metadata": {
        "id": "PPo0mNRB6YZL",
        "colab": {
          "base_uri": "https://localhost:8080/"
        },
        "outputId": "dda89b26-67d3-42c5-a9ef-d3e6a8895df8"
      },
      "execution_count": 103,
      "outputs": [
        {
          "output_type": "stream",
          "name": "stdout",
          "text": [
            "[49, 14, 2224, 4199, 1981, 11, 2312, 16, 6, 59, 3042, 138, 5, 145, 1, 294, 1, 378, 370, 7, 8, 37, 6, 1, 120, 944, 16362, 1026, 33, 3014, 21, 1170, 12144, 3036, 1427, 5513, 56, 3214, 2, 106, 5514, 136, 886, 1, 2224, 268, 3, 90, 22, 1278, 944, 16362, 51, 183, 36, 60, 107, 3214, 9, 14, 795, 26, 351, 3, 148, 5, 150, 107, 65, 12, 47, 74, 1966, 1935, 42, 7, 1, 132, 5352, 24, 1918, 36, 5481, 21, 1, 11637, 1378, 1116, 6722, 13, 64, 262, 19603, 2, 312, 4, 1253, 3278, 5, 14, 362, 116, 6, 10, 1, 128, 271, 137, 2100, 7, 16, 14, 362, 2, 3, 148, 4, 156, 1694, 1047, 17, 147, 86, 323, 598, 1, 1103, 207, 1055, 51, 544, 783, 21, 1, 3872, 15, 26, 147, 17728, 2, 27, 148, 39, 15, 102, 993, 18, 1, 1364, 55, 1, 6722, 5481, 2, 60, 39, 249, 102, 30, 282, 8, 161, 4, 43, 189, 46, 9, 944, 16362, 5, 1338, 65, 10, 674, 3, 102, 598, 2, 47, 64, 90, 279, 48, 64, 86, 124, 174, 1, 128, 18, 4, 545, 303, 1072, 13078, 12751, 17, 18, 1, 766, 13, 14, 362, 2, 3, 24, 282, 172, 360, 10, 815, 9, 107, 3, 78, 113, 39, 1, 5352, 24, 68, 4628, 51, 2968, 13, 15, 86, 598, 1, 1103, 2, 99, 79, 944, 16362, 888, 48, 288, 1, 2348, 10, 65, 19, 5274, 41, 1317, 5, 150, 1, 1364, 17, 47, 944, 16362, 299, 90, 1338, 15, 26, 137, 5, 240, 38, 1453, 116, 24, 282, 172, 360, 2, 26, 165, 10, 1966, 9, 8, 32, 6, 57, 889, 8276, 57, 12145, 35, 5, 118, 3, 6, 792, 22, 73, 4, 1318, 40, 4, 18584, 64, 148, 238, 38, 20, 1559, 59, 9752, 6722, 12, 13, 1388, 2, 47, 15, 215, 5, 1243, 64, 6032, 6723, 107, 2636, 2, 6842, 12, 13, 1388, 15, 975, 13, 10, 489, 57, 8, 6, 22, 1388, 42, 7, 1, 5352, 24, 628, 5, 561, 1, 6722, 9, 14, 104, 5, 150, 1512, 13, 24, 134, 4343, 21, 1, 6722, 2, 13, 12, 60, 15, 24, 4273, 15, 26, 565, 2, 1290, 5, 2193, 5, 59, 9752, 6722, 39, 1, 448, 18585, 944, 16362, 99, 14, 362, 9, 73, 222, 25, 1, 6722, 3344, 10, 7655, 7, 1, 489, 13, 8, 6, 42, 7, 1, 5352, 116, 2663, 399, 175, 845, 5, 8, 944, 16362, 137, 8, 1096, 5, 67, 13, 1, 9595, 28, 22, 9, 20, 1, 1737, 5, 655, 20, 78, 113, 118, 5, 655, 77, 8, 817, 266, 7, 1462, 5, 1916, 118, 5, 655, 250, 9595, 1462, 20, 78, 23, 2, 73, 39, 20, 26, 2956, 19, 53, 147, 30, 1248, 5, 655, 3, 547, 718, 7, 250, 515, 24, 9595, 544, 2, 271, 15, 79, 533, 13, 15755, 944, 16362, 137, 8, 540, 35, 194, 15, 24, 15756, 1, 5352, 65, 25, 13, 401, 15, 1266, 8080, 67, 13, 1, 5352, 28, 94, 2956, 6407, 2, 113, 103, 74, 55, 250, 238, 100, 20, 82, 2, 64, 106, 37, 16, 10, 270, 7, 77, 10, 1, 209, 450, 2901, 15, 975, 13, 13, 6, 91, 4, 971, 10, 1490, 13, 15, 91, 15756, 56, 37, 15, 26, 1254, 9, 6, 69, 14728, 10, 4, 1103, 399, 5, 41, 845, 75, 1, 5352, 2, 137, 36, 5, 30, 42, 9, 10065, 2833, 35, 4, 1737, 3, 141, 3, 23, 1, 144, 5, 269, 1047, 2, 1317, 5, 150, 4, 1364, 3, 24, 1, 1875, 944, 16362, 6, 21, 1, 7085, 1, 579, 46, 2, 60, 137, 238, 74, 9, 33, 6, 1, 489, 13, 64, 260, 5, 1711, 8, 37, 48, 18, 4, 302, 7, 11886, 271, 64, 918, 820, 1152, 67, 108, 944, 16362, 260, 5, 361, 107, 281, 18, 60, 407, 38, 4, 12752, 51, 7, 14, 5784, 5, 150, 107, 35, 64, 6, 286, 565, 5, 383, 36, 7, 1, 128, 944, 16362, 24, 4, 1283, 9061, 18, 2855, 815, 191, 3, 145, 8, 280, 3, 1513, 145, 8, 363, 40, 145, 8, 72, 235, 1, 302, 7, 352, 3, 117, 99, 64, 264, 33, 1151, 10, 1, 869, 2, 106, 233, 115, 5, 23, 4, 1037, 957, 2, 356, 36, 184, 267, 13, 24, 576, 21, 13, 132, 73, 47, 944, 16362, 102, 22, 141, 7, 1, 238, 64, 6, 5990, 5, 2, 24, 5, 30, 1743, 7, 75, 1, 5352, 184, 267, 64, 24, 106, 28, 238, 3, 278, 102, 23, 2902, 17, 22, 13, 22, 10, 4, 31, 3, 24, 68, 2489, 3, 102, 494, 8000, 49, 3, 24, 91, 538, 6781, 136, 2, 3, 6, 22, 828, 9, 1, 13837, 7, 3942, 3, 6, 142, 49, 1, 46, 3, 24, 419, 25, 1, 2224, 5, 121, 2, 2019, 5, 429, 238, 694, 17, 118, 102, 477, 2019, 80, 169, 1026, 38, 13, 1, 7, 3442, 28, 1248, 227, 10, 1427, 17, 80, 376, 59, 5112, 18, 944, 16362, 3, 6, 531, 5381, 36, 55, 169, 4867, 5, 10, 376, 4, 120, 2, 37, 3, 102, 99, 141, 55, 6, 1, 15231, 7, 3942, 64, 161, 226, 14, 803, 9, 4, 893, 2, 3308, 33, 27, 103, 15232, 13, 3, 531, 48, 9, 1, 615, 7, 60, 53, 147, 30, 4, 43, 189, 3442, 107, 1882, 7, 33, 6, 10, 69, 2132, 74, 18586, 100, 1, 3942, 674, 53, 442, 244, 39, 1055]\n"
          ]
        }
      ]
    },
    {
      "cell_type": "markdown",
      "source": [
        "We can look up the corresponding tokens using the tokenizer's *index_word* dict. Here are the tokens corresponding to the first three integers from the first vectorized review."
      ],
      "metadata": {
        "id": "kH4I4SeoqVDn"
      }
    },
    {
      "cell_type": "code",
      "source": [
        "[tokenizer.index_word[x] for x in X_train[0][:3]]"
      ],
      "metadata": {
        "id": "jkOI7jYFqb44",
        "colab": {
          "base_uri": "https://localhost:8080/"
        },
        "outputId": "b5b06fee-eeeb-4916-d99a-38e8f01a48d3"
      },
      "execution_count": 104,
      "outputs": [
        {
          "output_type": "execute_result",
          "data": {
            "text/plain": [
              "['from', 'my', 'hospital']"
            ]
          },
          "metadata": {},
          "execution_count": 104
        }
      ]
    },
    {
      "cell_type": "markdown",
      "source": [
        "We can also convert the integer sequence back to text using the *sequences_to_texts* method, and compare it against the original text.<br>\n",
        "https://www.tensorflow.org/api_docs/python/tf/keras/preprocessing/text/Tokenizer#sequences_to_texts"
      ],
      "metadata": {
        "id": "ahgfyZhDrHDJ"
      }
    },
    {
      "cell_type": "code",
      "source": [
        "# Review excerpt reconstructed from integer sequence.\n",
        "tokenizer.sequences_to_texts([X_train[0]])[0][:300]"
      ],
      "metadata": {
        "id": "RPlvLdz8rGZZ",
        "colab": {
          "base_uri": "https://localhost:8080/",
          "height": 70
        },
        "outputId": "15814525-3cb6-4409-d2a2-835490f98f4c"
      },
      "execution_count": 105,
      "outputs": [
        {
          "output_type": "execute_result",
          "data": {
            "text/plain": [
              "'from my hospital feedback form n nwhile this was an unpleasant experience to say the least the worst part of it all was the way dr haslett treated me doctors on previous shifts introduced themselves discussed their plans and said goodbye before leaving the hospital however i did not meet dr haslett '"
            ],
            "application/vnd.google.colaboratory.intrinsic+json": {
              "type": "string"
            }
          },
          "metadata": {},
          "execution_count": 105
        }
      ]
    },
    {
      "cell_type": "code",
      "source": [
        "# Original review text.\n",
        "train_reviews.iloc[0][:300]"
      ],
      "metadata": {
        "id": "ZirHR4_OC87H",
        "colab": {
          "base_uri": "https://localhost:8080/",
          "height": 70
        },
        "outputId": "92305290-c433-47ec-8722-ffd58b72fc73"
      },
      "execution_count": 106,
      "outputs": [
        {
          "output_type": "execute_result",
          "data": {
            "text/plain": [
              "'From my hospital feedback form:\\\\n\\\\nWhile this was an unpleasant experience to say the least, the worst part of it all was the way Dr. Haslett treated me.  Doctors on previous shifts introduced themselves, discussed their plans and said goodbye before leaving the hospital.  However, I did not meet Dr'"
            ],
            "application/vnd.google.colaboratory.intrinsic+json": {
              "type": "string"
            }
          },
          "metadata": {},
          "execution_count": 106
        }
      ]
    },
    {
      "cell_type": "markdown",
      "source": [
        "Some models and situations require us to **pad** our sequences to the same length. While that's not the case here, it can still be beneficial to have all our inputs (and consequently, our batches) to be of uniform size to help with optimizations.<br><br>\n",
        "In this case, we'll make all our reviews 200 tokens in length (in practice, you can choose a number based on some analysis). So the reviews longer than 200 tokens will be truncated, while the reviews shorter than 200 will be padded with zeroes.<br>\n",
        "https://www.tensorflow.org/api_docs/python/tf/keras/preprocessing/sequence/pad_sequences"
      ],
      "metadata": {
        "id": "bEqDNjactNk1"
      }
    },
    {
      "cell_type": "code",
      "source": [
        "MAX_REVIEW_LEN = 200\n",
        "X_train = keras.preprocessing.sequence.pad_sequences(X_train, maxlen=MAX_REVIEW_LEN)"
      ],
      "metadata": {
        "id": "2lTEjMgDqIPp"
      },
      "execution_count": 107,
      "outputs": []
    },
    {
      "cell_type": "code",
      "source": [
        "print(X_train[0])\n",
        "print(X_train[1])"
      ],
      "metadata": {
        "id": "d2tHPfAVv37k",
        "colab": {
          "base_uri": "https://localhost:8080/"
        },
        "outputId": "7467f5a8-0302-4d3d-9b7e-3708ce6672b1"
      },
      "execution_count": 108,
      "outputs": [
        {
          "output_type": "stream",
          "name": "stdout",
          "text": [
            "[ 1037   957     2   356    36   184   267    13    24   576    21    13\n",
            "   132    73    47   944 16362   102    22   141     7     1   238    64\n",
            "     6  5990     5     2    24     5    30  1743     7    75     1  5352\n",
            "   184   267    64    24   106    28   238     3   278   102    23  2902\n",
            "    17    22    13    22    10     4    31     3    24    68  2489     3\n",
            "   102   494  8000    49     3    24    91   538  6781   136     2     3\n",
            "     6    22   828     9     1 13837     7  3942     3     6   142    49\n",
            "     1    46     3    24   419    25     1  2224     5   121     2  2019\n",
            "     5   429   238   694    17   118   102   477  2019    80   169  1026\n",
            "    38    13     1     7  3442    28  1248   227    10  1427    17    80\n",
            "   376    59  5112    18   944 16362     3     6   531  5381    36    55\n",
            "   169  4867     5    10   376     4   120     2    37     3   102    99\n",
            "   141    55     6     1 15231     7  3942    64   161   226    14   803\n",
            "     9     4   893     2  3308    33    27   103 15232    13     3   531\n",
            "    48     9     1   615     7    60    53   147    30     4    43   189\n",
            "  3442   107  1882     7    33     6    10    69  2132    74 18586   100\n",
            "     1  3942   674    53   442   244    39  1055]\n",
            "[    0     0     0     0     0     0     0     0     0     0     0     0\n",
            "     0     0     0     0     0     0     0     0     0     0     0     0\n",
            "     0     0     0     0     0     0     0     0     0     0     0     0\n",
            "     0     0     0     0     0     0     0     0     0     0     0     0\n",
            "     0     0     0     0     0     0     0     0     0     0     0     0\n",
            "     0     0     0     0     0     0     0     0     0     0     0     0\n",
            "     0     0     0     0     0     0     0     0     0     0     0     0\n",
            "     0     0     0     0     0     0     0     0     0     0     0     0\n",
            "     0     0     0     0     0     0     0     0     0     0     0     0\n",
            "     0     0     0     0     0     0     0     0     0     0     0     0\n",
            "     0     0     0     0     0     0     0     0     0     0     0     0\n",
            "     0     0     0     0     0     0     0     0     0     0     0     0\n",
            "     0     0     0     0     0     0     0     0     0     0     0     0\n",
            "     0     0     0     0     0     0     0     0     0     0     0     0\n",
            "     0     0     0     0     0     0     0    38    16    31  2281    17\n",
            "     3   141     1   133   619     5  5785     2     1  1955     4   208\n",
            "   855  1465     1   539 11887    26   122  1351]\n"
          ]
        }
      ]
    },
    {
      "cell_type": "markdown",
      "source": [
        "Our training set is prepared. We can now also vectorize and pad our validation set."
      ],
      "metadata": {
        "id": "nBAg3laKwDWO"
      }
    },
    {
      "cell_type": "code",
      "source": [
        "X_val = tokenizer.texts_to_sequences(val_reviews)\n",
        "X_val = keras.preprocessing.sequence.pad_sequences(X_val, maxlen=MAX_REVIEW_LEN)"
      ],
      "metadata": {
        "id": "E9P72JJYHqKp"
      },
      "execution_count": 109,
      "outputs": []
    },
    {
      "cell_type": "markdown",
      "source": [
        "Now we need to incorporate the Google News vectors (currently loaded into gensim) into our Keras model. What we'll do is create an embedding matrix that maps each tokenizer integer to its respective word vector.<br><br>\n",
        "For example, here's the index for the word \"good\" from the Keras tokenizer and the word vector for \"good\" from gensim. We want a matrix which maps the index to the vector.\n"
      ],
      "metadata": {
        "id": "P8dy9OWMwafM"
      }
    },
    {
      "cell_type": "code",
      "source": [
        "print(tokenizer.word_index['good'])"
      ],
      "metadata": {
        "id": "5m7OW6-pwaJc",
        "colab": {
          "base_uri": "https://localhost:8080/"
        },
        "outputId": "85cad9cf-31ae-490d-c92f-317c1e1d9876"
      },
      "execution_count": 110,
      "outputs": [
        {
          "output_type": "stream",
          "name": "stdout",
          "text": [
            "34\n"
          ]
        }
      ]
    },
    {
      "cell_type": "code",
      "source": [
        "# Part of the vector for the word 'good'.\n",
        "print(word_vectors['good'][:50])"
      ],
      "metadata": {
        "id": "3rOAy_IkHqfx",
        "colab": {
          "base_uri": "https://localhost:8080/"
        },
        "outputId": "20f97b4e-ed68-4332-ee2d-ad6ed747b038"
      },
      "execution_count": 111,
      "outputs": [
        {
          "output_type": "stream",
          "name": "stdout",
          "text": [
            "[ 0.04052734  0.0625     -0.01745605  0.07861328  0.03271484 -0.01263428\n",
            "  0.00964355  0.12353516 -0.02148438  0.15234375 -0.05834961 -0.10644531\n",
            "  0.02124023  0.13574219 -0.13183594  0.17675781  0.27148438  0.13769531\n",
            " -0.17382812 -0.14160156 -0.03076172  0.19628906 -0.03295898  0.125\n",
            "  0.25390625  0.12695312 -0.15234375  0.03198242  0.01135254 -0.01361084\n",
            " -0.12890625  0.01019287  0.23925781 -0.08447266  0.140625    0.13085938\n",
            " -0.04516602  0.06494141  0.02539062  0.05615234  0.24609375 -0.20507812\n",
            "  0.23632812 -0.00860596 -0.02294922  0.05078125  0.10644531 -0.03564453\n",
            "  0.08740234 -0.05712891]\n"
          ]
        }
      ]
    },
    {
      "cell_type": "markdown",
      "source": [
        "We'll create this embedding matrix by first initializing a matrix of zeros, then looping over every word in the tokenizer vocabulary and:\n",
        "1. Checking if the word has a corresponding vector in gensim.\n",
        "2. If it does, then copy the vector into the matrix row corresponding to the word's index."
      ],
      "metadata": {
        "id": "elzisAtxyO-o"
      }
    },
    {
      "cell_type": "code",
      "source": [
        "# + 1 to account for padding token.\n",
        "num_tokens = len(tokenizer.word_index) + 1\n",
        "\n",
        "# Initialize a matrix of zeroes of size: vocabulary x embedding dimension.\n",
        "embedding_dim = 300\n",
        "embedding_matrix = np.zeros((num_tokens, embedding_dim))\n",
        "\n",
        "for word, i in tokenizer.word_index.items():\n",
        "  if word_vectors.has_index_for(word):\n",
        "    embedding_matrix[i] = word_vectors[word].copy()\n"
      ],
      "metadata": {
        "id": "Iw25Irs4J-JG"
      },
      "execution_count": 112,
      "outputs": []
    },
    {
      "cell_type": "code",
      "source": [
        "# Quick visual check.\n",
        "print(embedding_matrix[tokenizer.word_index['good']][:50])"
      ],
      "metadata": {
        "id": "uncvu4lcJ-OI",
        "colab": {
          "base_uri": "https://localhost:8080/"
        },
        "outputId": "b6ad5cc0-3fa1-449c-e573-b042a81ffd1c"
      },
      "execution_count": 113,
      "outputs": [
        {
          "output_type": "stream",
          "name": "stdout",
          "text": [
            "[ 0.04052734  0.0625     -0.01745605  0.07861328  0.03271484 -0.01263428\n",
            "  0.00964355  0.12353516 -0.02148438  0.15234375 -0.05834961 -0.10644531\n",
            "  0.02124023  0.13574219 -0.13183594  0.17675781  0.27148438  0.13769531\n",
            " -0.17382812 -0.14160156 -0.03076172  0.19628906 -0.03295898  0.125\n",
            "  0.25390625  0.12695312 -0.15234375  0.03198242  0.01135254 -0.01361084\n",
            " -0.12890625  0.01019287  0.23925781 -0.08447266  0.140625    0.13085938\n",
            " -0.04516602  0.06494141  0.02539062  0.05615234  0.24609375 -0.20507812\n",
            "  0.23632812 -0.00860596 -0.02294922  0.05078125  0.10644531 -0.03564453\n",
            "  0.08740234 -0.05712891]\n"
          ]
        }
      ]
    },
    {
      "cell_type": "markdown",
      "source": [
        "We're ready to build our first model using pretrained word vectors. The first layer we'll add is a Keras **embedding** layer which is essentially a trainable lookup table/matrix.<br>\n",
        "https://keras.io/api/layers/base_layer/#layer-class<br>\n",
        "https://keras.io/api/layers/core_layers/embedding/<br><br>\n",
        "In this case, we'll populate the **embedding** layer with the embedding matrix we created, and set *trainable* to True. This means we'll allow the learning algorithm training the classification model to adjust/fine-tune the word vectors as needed for greater performance. This corresponds to one of the scenarios we covered in the slides."
      ],
      "metadata": {
        "id": "CmzNcyFu0Noo"
      }
    },
    {
      "cell_type": "code",
      "source": [
        "embedding_layer = layers.Embedding(\n",
        "    num_tokens,\n",
        "    embedding_dim,\n",
        "    embeddings_initializer=keras.initializers.Constant(embedding_matrix),\n",
        "    input_length=MAX_REVIEW_LEN,\n",
        "    trainable=True\n",
        ")"
      ],
      "metadata": {
        "id": "ALs6rkTnJ-aj"
      },
      "execution_count": 114,
      "outputs": []
    },
    {
      "cell_type": "markdown",
      "source": [
        "We'll use a simple architecture for this model. Each training example is a sequence of *integers* which gets converted to a sequence of *vectors* (embeddings), but subsequent layers are expecting one vector per review. So we're inserting a **GlobalAveragePooling1D** layer after the embedding layer to average out all the word vectors into a single vector, before sending it further into the network. For classification, this can be pretty effective as a base model approach.<br>\n",
        "https://keras.io/api/layers/pooling_layers/global_average_pooling1d/<br>\n",
        "\n",
        "There was no science behind choosing 128 units in the first hidden layer and 64 units in the second hidden layer. The intuition was that the signal would be distilled from 300 dimensions down to 128 dimensions, then down to 64 dimensions before going to output.\n",
        "\n"
      ],
      "metadata": {
        "id": "OqRgEWpb2iuI"
      }
    },
    {
      "cell_type": "code",
      "source": [
        "tf.random.set_seed(0)\n",
        "\n",
        "model = keras.Sequential()\n",
        "\n",
        "# This layer will output a sequence of 300-dimension *vectors*, one for each element in the input sequence.\n",
        "model.add(embedding_layer)\n",
        "\n",
        "# This layer will calculate an average of those vectors.\n",
        "model.add(layers.GlobalAveragePooling1D())\n",
        "\n",
        "model.add(layers.Dense(128, activation='relu', kernel_initializer=tf.keras.initializers.random_normal(seed=1)))\n",
        "model.add(layers.Dense(64, activation='relu', kernel_initializer=tf.keras.initializers.random_normal(seed=1)))\n",
        "model.add(layers.Dense(1, activation='sigmoid', kernel_initializer=tf.keras.initializers.random_normal(seed=1)))\n",
        "\n",
        "model.compile(optimizer='adam',\n",
        "              loss='binary_crossentropy',\n",
        "              metrics=['accuracy'])"
      ],
      "metadata": {
        "id": "1RrLd4gzbhVS"
      },
      "execution_count": 115,
      "outputs": []
    },
    {
      "cell_type": "markdown",
      "source": [
        "Here's an example of what's going to happen under the hood to turn review text into a single vector for the dense layers:"
      ],
      "metadata": {
        "id": "dlmis9Oz4_jy"
      }
    },
    {
      "cell_type": "code",
      "source": [
        "review = \"fantastic papaya steak\"\n",
        "print(f\"Review: {review}\")\n",
        "\n",
        "review_sequence = tokenizer.texts_to_sequences([review])\n",
        "print(f\"Review as sequence of integers: {review_sequence}\")\n",
        "\n",
        "review_embeddings = embedding_layer(np.array(review_sequence))\n",
        "print(f\"Review embeddings shape: (Batch size: {review_embeddings.shape[0]}, \\\n",
        "Sequence length: {review_embeddings.shape[1]}, \\\n",
        "Embedding size: {review_embeddings.shape[2]})\")\n",
        "\n",
        "# How our document will be presented to the rest of the neural network.\n",
        "print(f\"Average of embeddings (shape): {np.mean(review_embeddings, axis=1).shape}\")"
      ],
      "metadata": {
        "id": "1r5K-Qqb1d-H",
        "colab": {
          "base_uri": "https://localhost:8080/"
        },
        "outputId": "f97208d5-46d1-49de-f21c-6b6e63cc6948"
      },
      "execution_count": 116,
      "outputs": [
        {
          "output_type": "stream",
          "name": "stdout",
          "text": [
            "Review: fantastic papaya steak\n",
            "Review as sequence of integers: [[543, 5844, 305]]\n",
            "Review embeddings shape: (Batch size: 1, Sequence length: 3, Embedding size: 300)\n",
            "Average of embeddings (shape): (1, 300)\n"
          ]
        }
      ]
    },
    {
      "cell_type": "markdown",
      "source": [
        "When we call the model's *summary* method, note how there are no params for the **GlobalAveragePooling1D** layer."
      ],
      "metadata": {
        "id": "546ouDEv41Ea"
      }
    },
    {
      "cell_type": "code",
      "source": [
        "model.summary()"
      ],
      "metadata": {
        "id": "Pz31QQcb5nq5",
        "colab": {
          "base_uri": "https://localhost:8080/"
        },
        "outputId": "82a0af44-4dc7-4097-97b3-a4f20322641b"
      },
      "execution_count": 117,
      "outputs": [
        {
          "output_type": "stream",
          "name": "stdout",
          "text": [
            "Model: \"sequential_4\"\n",
            "_________________________________________________________________\n",
            " Layer (type)                Output Shape              Param #   \n",
            "=================================================================\n",
            " embedding_3 (Embedding)     (None, 200, 300)          28023900  \n",
            "                                                                 \n",
            " global_average_pooling1d_3  (None, 300)               0         \n",
            "  (GlobalAveragePooling1D)                                       \n",
            "                                                                 \n",
            " dense_9 (Dense)             (None, 128)               38528     \n",
            "                                                                 \n",
            " dense_10 (Dense)            (None, 64)                8256      \n",
            "                                                                 \n",
            " dense_11 (Dense)            (None, 1)                 65        \n",
            "                                                                 \n",
            "=================================================================\n",
            "Total params: 28070749 (107.08 MB)\n",
            "Trainable params: 28070749 (107.08 MB)\n",
            "Non-trainable params: 0 (0.00 Byte)\n",
            "_________________________________________________________________\n"
          ]
        }
      ]
    },
    {
      "cell_type": "markdown",
      "source": [
        "We won't use **early stopping** for this run. This way, we'll be able to compare metrics between the train and validation sets."
      ],
      "metadata": {
        "id": "AwGYMD028zhO"
      }
    },
    {
      "cell_type": "code",
      "source": [
        "history = model.fit(X_train, y_train, epochs=20, batch_size=512, validation_data=(X_val, y_val))"
      ],
      "metadata": {
        "id": "oU6QBey79cis",
        "colab": {
          "base_uri": "https://localhost:8080/"
        },
        "outputId": "0eccb882-bf5d-4340-c892-066feb9c16a9"
      },
      "execution_count": 118,
      "outputs": [
        {
          "output_type": "stream",
          "name": "stdout",
          "text": [
            "Epoch 1/20\n",
            "167/167 [==============================] - 23s 131ms/step - loss: 0.3999 - accuracy: 0.8133 - val_loss: 0.2296 - val_accuracy: 0.9148\n",
            "Epoch 2/20\n",
            "167/167 [==============================] - 13s 79ms/step - loss: 0.1889 - accuracy: 0.9302 - val_loss: 0.2057 - val_accuracy: 0.9221\n",
            "Epoch 3/20\n",
            "167/167 [==============================] - 12s 69ms/step - loss: 0.1547 - accuracy: 0.9436 - val_loss: 0.1999 - val_accuracy: 0.9230\n",
            "Epoch 4/20\n",
            "167/167 [==============================] - 7s 41ms/step - loss: 0.1328 - accuracy: 0.9528 - val_loss: 0.2147 - val_accuracy: 0.9191\n",
            "Epoch 5/20\n",
            "167/167 [==============================] - 8s 48ms/step - loss: 0.1216 - accuracy: 0.9575 - val_loss: 0.2244 - val_accuracy: 0.9183\n",
            "Epoch 6/20\n",
            "167/167 [==============================] - 5s 30ms/step - loss: 0.1123 - accuracy: 0.9612 - val_loss: 0.2273 - val_accuracy: 0.9194\n",
            "Epoch 7/20\n",
            "167/167 [==============================] - 6s 33ms/step - loss: 0.1037 - accuracy: 0.9644 - val_loss: 0.2359 - val_accuracy: 0.9171\n",
            "Epoch 8/20\n",
            "167/167 [==============================] - 6s 36ms/step - loss: 0.0953 - accuracy: 0.9682 - val_loss: 0.2618 - val_accuracy: 0.9121\n",
            "Epoch 9/20\n",
            "167/167 [==============================] - 4s 24ms/step - loss: 0.0891 - accuracy: 0.9697 - val_loss: 0.2771 - val_accuracy: 0.9100\n",
            "Epoch 10/20\n",
            "167/167 [==============================] - 4s 25ms/step - loss: 0.0811 - accuracy: 0.9738 - val_loss: 0.2786 - val_accuracy: 0.9100\n",
            "Epoch 11/20\n",
            "167/167 [==============================] - 5s 27ms/step - loss: 0.0759 - accuracy: 0.9753 - val_loss: 0.3465 - val_accuracy: 0.8973\n",
            "Epoch 12/20\n",
            "167/167 [==============================] - 4s 26ms/step - loss: 0.0768 - accuracy: 0.9740 - val_loss: 0.4384 - val_accuracy: 0.8688\n",
            "Epoch 13/20\n",
            "167/167 [==============================] - 4s 21ms/step - loss: 0.0802 - accuracy: 0.9731 - val_loss: 0.3129 - val_accuracy: 0.9091\n",
            "Epoch 14/20\n",
            "167/167 [==============================] - 4s 22ms/step - loss: 0.0640 - accuracy: 0.9798 - val_loss: 0.3346 - val_accuracy: 0.9084\n",
            "Epoch 15/20\n",
            "167/167 [==============================] - 4s 22ms/step - loss: 0.0682 - accuracy: 0.9772 - val_loss: 0.3529 - val_accuracy: 0.9044\n",
            "Epoch 16/20\n",
            "167/167 [==============================] - 5s 32ms/step - loss: 0.0579 - accuracy: 0.9811 - val_loss: 0.3601 - val_accuracy: 0.9071\n",
            "Epoch 17/20\n",
            "167/167 [==============================] - 3s 20ms/step - loss: 0.0532 - accuracy: 0.9822 - val_loss: 0.3888 - val_accuracy: 0.9055\n",
            "Epoch 18/20\n",
            "167/167 [==============================] - 4s 21ms/step - loss: 0.0480 - accuracy: 0.9841 - val_loss: 0.5101 - val_accuracy: 0.8847\n",
            "Epoch 19/20\n",
            "167/167 [==============================] - 4s 22ms/step - loss: 0.0480 - accuracy: 0.9836 - val_loss: 0.4673 - val_accuracy: 0.9002\n",
            "Epoch 20/20\n",
            "167/167 [==============================] - 4s 23ms/step - loss: 0.0460 - accuracy: 0.9832 - val_loss: 0.4770 - val_accuracy: 0.9061\n"
          ]
        }
      ]
    },
    {
      "cell_type": "code",
      "source": [
        "def plot_train_vs_val_performance(history):\n",
        "  training_losses = history.history['loss']\n",
        "  validation_losses = history.history['val_loss']\n",
        "\n",
        "  training_accuracy = history.history['accuracy']\n",
        "  validation_accuracy = history.history['val_accuracy']\n",
        "\n",
        "  epochs = range(1, len(training_losses) + 1)\n",
        "\n",
        "  import matplotlib.pyplot as plt\n",
        "  fig, (ax1, ax2) = plt.subplots(2)\n",
        "  fig.set_figheight(15)\n",
        "  fig.set_figwidth(15)\n",
        "  fig.tight_layout(pad=5.0)\n",
        "\n",
        "  # Plot training vs. validation loss.\n",
        "  ax1.plot(epochs, training_losses, 'bo', label='Training Loss')\n",
        "  ax1.plot(epochs, validation_losses, 'b', label='Validation Loss')\n",
        "  ax1.title.set_text('Training vs. Validation Loss')\n",
        "  ax1.set_xlabel('Epoch')\n",
        "  ax1.set_ylabel('Loss')\n",
        "  ax1.legend()\n",
        "\n",
        "  # PLot training vs. validation accuracy.\n",
        "  ax2.plot(epochs, training_accuracy, 'bo', label='Training Accuracy')\n",
        "  ax2.plot(epochs, validation_accuracy, 'b', label='Validation Accuracy')\n",
        "  ax2.title.set_text('Training vs. Validation Accuracy')\n",
        "  ax2.set_xlabel('Epoch')\n",
        "  ax2.set_ylabel('Accuracy')\n",
        "  ax2.legend()\n",
        "\n",
        "  plt.show()"
      ],
      "metadata": {
        "id": "Neard5tEGwnG"
      },
      "execution_count": 119,
      "outputs": []
    },
    {
      "cell_type": "code",
      "source": [
        "plot_train_vs_val_performance(history)"
      ],
      "metadata": {
        "id": "lbSk2qE1cEfS",
        "colab": {
          "base_uri": "https://localhost:8080/",
          "height": 1000
        },
        "outputId": "0493f5ba-666c-4211-8973-c25bc6ff1299"
      },
      "execution_count": 120,
      "outputs": [
        {
          "output_type": "display_data",
          "data": {
            "text/plain": [
              "<Figure size 1500x1500 with 2 Axes>"
            ],
            "image/png": "[encoded data removed]"
          },
          "metadata": {}
        }
      ]
    },
    {
      "cell_type": "markdown",
      "source": [
        "We'll initialize a new embedding layer and model and train for epochs equalling the point where we saw the validation loss diverge from the training loss.<br>\n",
        "\n",
        "**NOTE**: We need to initialize a new embedding layer here because we set the *learnable* parameter to **True** in the previous embedding layer. This means the previous embeddings were almost certainly updated by the learning algorithm. So we're re-training a new model now with the original embeddings."
      ],
      "metadata": {
        "id": "xdeEdLD6W91U"
      }
    },
    {
      "cell_type": "code",
      "source": [
        "embedding_layer = layers.Embedding(\n",
        "    num_tokens,\n",
        "    embedding_dim,\n",
        "    embeddings_initializer=keras.initializers.Constant(embedding_matrix),\n",
        "    input_length=MAX_REVIEW_LEN,\n",
        "    trainable=True\n",
        ")\n",
        "\n",
        "model = keras.Sequential()\n",
        "model.add(embedding_layer)\n",
        "model.add(layers.GlobalAveragePooling1D())\n",
        "model.add(layers.Dense(128, activation='relu'))\n",
        "model.add(layers.Dense(64, activation='relu'))\n",
        "model.add(layers.Dense(1, activation='sigmoid'))\n",
        "\n",
        "model.compile(optimizer='adam',\n",
        "              loss='binary_crossentropy',\n",
        "              metrics=['accuracy'])\n",
        "\n",
        "model.fit(X_train, y_train, epochs=3, batch_size=512, validation_data=(X_val, y_val))"
      ],
      "metadata": {
        "id": "V_nWiYy6cEbJ",
        "colab": {
          "base_uri": "https://localhost:8080/"
        },
        "outputId": "d2c2da2c-0a2c-45c5-b54c-87e4919ca3b9"
      },
      "execution_count": 121,
      "outputs": [
        {
          "output_type": "stream",
          "name": "stdout",
          "text": [
            "Epoch 1/3\n",
            "167/167 [==============================] - 20s 112ms/step - loss: 0.3704 - accuracy: 0.8328 - val_loss: 0.2227 - val_accuracy: 0.9167\n",
            "Epoch 2/3\n",
            "167/167 [==============================] - 14s 83ms/step - loss: 0.1821 - accuracy: 0.9323 - val_loss: 0.1989 - val_accuracy: 0.9232\n",
            "Epoch 3/3\n",
            "167/167 [==============================] - 9s 54ms/step - loss: 0.1479 - accuracy: 0.9448 - val_loss: 0.1959 - val_accuracy: 0.9243\n"
          ]
        },
        {
          "output_type": "execute_result",
          "data": {
            "text/plain": [
              "<keras.src.callbacks.History at 0x7c44dc890310>"
            ]
          },
          "metadata": {},
          "execution_count": 121
        }
      ]
    },
    {
      "cell_type": "markdown",
      "source": [
        "Now that we have a trained model, let's try it on the test data. As we did with the training data, we'll:\n",
        "1. Replace the labels with 0 for negative sentiment, and 1 for positive.\n",
        "2. Convert the reviews into a sequence of integers and pad/truncate each review to a fixed length."
      ],
      "metadata": {
        "id": "_4X_sdScYPAP"
      }
    },
    {
      "cell_type": "code",
      "source": [
        "yelp_test = pd.read_csv('yelp_review_polarity_csv/test.csv', names=['sentiment', 'review'])"
      ],
      "metadata": {
        "id": "AUsripS7SZdk"
      },
      "execution_count": 122,
      "outputs": []
    },
    {
      "cell_type": "code",
      "source": [
        "yelp_test['sentiment'].replace(to_replace=1, value=0, inplace=True)\n",
        "yelp_test['sentiment'].replace(to_replace=2, value=1, inplace=True)\n",
        "yelp_test.head()"
      ],
      "metadata": {
        "id": "bm4Day_jYbTe",
        "colab": {
          "base_uri": "https://localhost:8080/",
          "height": 206
        },
        "outputId": "af1244e5-26a5-45fa-97cb-2925bca503a3"
      },
      "execution_count": 123,
      "outputs": [
        {
          "output_type": "execute_result",
          "data": {
            "text/plain": [
              "   sentiment                                             review\n",
              "0          1  Contrary to other reviews, I have zero complai...\n",
              "1          0  Last summer I had an appointment to get new ti...\n",
              "2          1  Friendly staff, same starbucks fair you get an...\n",
              "3          0  The food is good. Unfortunately the service is...\n",
              "4          1  Even when we didn't have a car Filene's Baseme..."
            ],
            "text/html": [
              "\n",
              "  <div id=\"df-748ef846-154e-40f2-98f4-828e574a2565\" class=\"colab-df-container\">\n",
              "    <div>\n",
              "<style scoped>\n",
              "    .dataframe tbody tr th:only-of-type {\n",
              "        vertical-align: middle;\n",
              "    }\n",
              "\n",
              "    .dataframe tbody tr th {\n",
              "        vertical-align: top;\n",
              "    }\n",
              "\n",
              "    .dataframe thead th {\n",
              "        text-align: right;\n",
              "    }\n",
              "</style>\n",
              "<table border=\"1\" class=\"dataframe\">\n",
              "  <thead>\n",
              "    <tr style=\"text-align: right;\">\n",
              "      <th></th>\n",
              "      <th>sentiment</th>\n",
              "      <th>review</th>\n",
              "    </tr>\n",
              "  </thead>\n",
              "  <tbody>\n",
              "    <tr>\n",
              "      <th>0</th>\n",
              "      <td>1</td>\n",
              "      <td>Contrary to other reviews, I have zero complai...</td>\n",
              "    </tr>\n",
              "    <tr>\n",
              "      <th>1</th>\n",
              "      <td>0</td>\n",
              "      <td>Last summer I had an appointment to get new ti...</td>\n",
              "    </tr>\n",
              "    <tr>\n",
              "      <th>2</th>\n",
              "      <td>1</td>\n",
              "      <td>Friendly staff, same starbucks fair you get an...</td>\n",
              "    </tr>\n",
              "    <tr>\n",
              "      <th>3</th>\n",
              "      <td>0</td>\n",
              "      <td>The food is good. Unfortunately the service is...</td>\n",
              "    </tr>\n",
              "    <tr>\n",
              "      <th>4</th>\n",
              "      <td>1</td>\n",
              "      <td>Even when we didn't have a car Filene's Baseme...</td>\n",
              "    </tr>\n",
              "  </tbody>\n",
              "</table>\n",
              "</div>\n",
              "    <div class=\"colab-df-buttons\">\n",
              "\n",
              "  <div class=\"colab-df-container\">\n",
              "    <button class=\"colab-df-convert\" onclick=\"convertToInteractive('df-748ef846-154e-40f2-98f4-828e574a2565')\"\n",
              "            title=\"Convert this dataframe to an interactive table.\"\n",
              "            style=\"display:none;\">\n",
              "\n",
              "  <svg xmlns=\"http://www.w3.org/2000/svg\" height=\"24px\" viewBox=\"0 -960 960 960\">\n",
              "    <path d=\"M120-120v-720h720v720H120Zm60-500h600v-160H180v160Zm220 220h160v-160H400v160Zm0 220h160v-160H400v160ZM180-400h160v-160H180v160Zm440 0h160v-160H620v160ZM180-180h160v-160H180v160Zm440 0h160v-160H620v160Z\"/>\n",
              "  </svg>\n",
              "    </button>\n",
              "\n",
              "  <style>\n",
              "    .colab-df-container {\n",
              "      display:flex;\n",
              "      gap: 12px;\n",
              "    }\n",
              "\n",
              "    .colab-df-convert {\n",
              "      background-color: #E8F0FE;\n",
              "      border: none;\n",
              "      border-radius: 50%;\n",
              "      cursor: pointer;\n",
              "      display: none;\n",
              "      fill: #1967D2;\n",
              "      height: 32px;\n",
              "      padding: 0 0 0 0;\n",
              "      width: 32px;\n",
              "    }\n",
              "\n",
              "    .colab-df-convert:hover {\n",
              "      background-color: #E2EBFA;\n",
              "      box-shadow: 0px 1px 2px rgba(60, 64, 67, 0.3), 0px 1px 3px 1px rgba(60, 64, 67, 0.15);\n",
              "      fill: #174EA6;\n",
              "    }\n",
              "\n",
              "    .colab-df-buttons div {\n",
              "      margin-bottom: 4px;\n",
              "    }\n",
              "\n",
              "    [theme=dark] .colab-df-convert {\n",
              "      background-color: #3B4455;\n",
              "      fill: #D2E3FC;\n",
              "    }\n",
              "\n",
              "    [theme=dark] .colab-df-convert:hover {\n",
              "      background-color: #434B5C;\n",
              "      box-shadow: 0px 1px 3px 1px rgba(0, 0, 0, 0.15);\n",
              "      filter: drop-shadow(0px 1px 2px rgba(0, 0, 0, 0.3));\n",
              "      fill: #FFFFFF;\n",
              "    }\n",
              "  </style>\n",
              "\n",
              "    <script>\n",
              "      const buttonEl =\n",
              "        document.querySelector('#df-748ef846-154e-40f2-98f4-828e574a2565 button.colab-df-convert');\n",
              "      buttonEl.style.display =\n",
              "        google.colab.kernel.accessAllowed ? 'block' : 'none';\n",
              "\n",
              "      async function convertToInteractive(key) {\n",
              "        const element = document.querySelector('#df-748ef846-154e-40f2-98f4-828e574a2565');\n",
              "        const dataTable =\n",
              "          await google.colab.kernel.invokeFunction('convertToInteractive',\n",
              "                                                    [key], {});\n",
              "        if (!dataTable) return;\n",
              "\n",
              "        const docLinkHtml = 'Like what you see? Visit the ' +\n",
              "          '<a target=\"_blank\" href=https://colab.research.google.com/notebooks/data_table.ipynb>data table notebook</a>'\n",
              "          + ' to learn more about interactive tables.';\n",
              "        element.innerHTML = '';\n",
              "        dataTable['output_type'] = 'display_data';\n",
              "        await google.colab.output.renderOutput(dataTable, element);\n",
              "        const docLink = document.createElement('div');\n",
              "        docLink.innerHTML = docLinkHtml;\n",
              "        element.appendChild(docLink);\n",
              "      }\n",
              "    </script>\n",
              "  </div>\n",
              "\n",
              "\n",
              "<div id=\"df-d3fec8f7-b9a8-44cd-b7e2-4b8de02bb458\">\n",
              "  <button class=\"colab-df-quickchart\" onclick=\"quickchart('df-d3fec8f7-b9a8-44cd-b7e2-4b8de02bb458')\"\n",
              "            title=\"Suggest charts\"\n",
              "            style=\"display:none;\">\n",
              "\n",
              "<svg xmlns=\"http://www.w3.org/2000/svg\" height=\"24px\"viewBox=\"0 0 24 24\"\n",
              "     width=\"24px\">\n",
              "    <g>\n",
              "        <path d=\"M19 3H5c-1.1 0-2 .9-2 2v14c0 1.1.9 2 2 2h14c1.1 0 2-.9 2-2V5c0-1.1-.9-2-2-2zM9 17H7v-7h2v7zm4 0h-2V7h2v10zm4 0h-2v-4h2v4z\"/>\n",
              "    </g>\n",
              "</svg>\n",
              "  </button>\n",
              "\n",
              "<style>\n",
              "  .colab-df-quickchart {\n",
              "      --bg-color: #E8F0FE;\n",
              "      --fill-color: #1967D2;\n",
              "      --hover-bg-color: #E2EBFA;\n",
              "      --hover-fill-color: #174EA6;\n",
              "      --disabled-fill-color: #AAA;\n",
              "      --disabled-bg-color: #DDD;\n",
              "  }\n",
              "\n",
              "  [theme=dark] .colab-df-quickchart {\n",
              "      --bg-color: #3B4455;\n",
              "      --fill-color: #D2E3FC;\n",
              "      --hover-bg-color: #434B5C;\n",
              "      --hover-fill-color: #FFFFFF;\n",
              "      --disabled-bg-color: #3B4455;\n",
              "      --disabled-fill-color: #666;\n",
              "  }\n",
              "\n",
              "  .colab-df-quickchart {\n",
              "    background-color: var(--bg-color);\n",
              "    border: none;\n",
              "    border-radius: 50%;\n",
              "    cursor: pointer;\n",
              "    display: none;\n",
              "    fill: var(--fill-color);\n",
              "    height: 32px;\n",
              "    padding: 0;\n",
              "    width: 32px;\n",
              "  }\n",
              "\n",
              "  .colab-df-quickchart:hover {\n",
              "    background-color: var(--hover-bg-color);\n",
              "    box-shadow: 0 1px 2px rgba(60, 64, 67, 0.3), 0 1px 3px 1px rgba(60, 64, 67, 0.15);\n",
              "    fill: var(--button-hover-fill-color);\n",
              "  }\n",
              "\n",
              "  .colab-df-quickchart-complete:disabled,\n",
              "  .colab-df-quickchart-complete:disabled:hover {\n",
              "    background-color: var(--disabled-bg-color);\n",
              "    fill: var(--disabled-fill-color);\n",
              "    box-shadow: none;\n",
              "  }\n",
              "\n",
              "  .colab-df-spinner {\n",
              "    border: 2px solid var(--fill-color);\n",
              "    border-color: transparent;\n",
              "    border-bottom-color: var(--fill-color);\n",
              "    animation:\n",
              "      spin 1s steps(1) infinite;\n",
              "  }\n",
              "\n",
              "  @keyframes spin {\n",
              "    0% {\n",
              "      border-color: transparent;\n",
              "      border-bottom-color: var(--fill-color);\n",
              "      border-left-color: var(--fill-color);\n",
              "    }\n",
              "    20% {\n",
              "      border-color: transparent;\n",
              "      border-left-color: var(--fill-color);\n",
              "      border-top-color: var(--fill-color);\n",
              "    }\n",
              "    30% {\n",
              "      border-color: transparent;\n",
              "      border-left-color: var(--fill-color);\n",
              "      border-top-color: var(--fill-color);\n",
              "      border-right-color: var(--fill-color);\n",
              "    }\n",
              "    40% {\n",
              "      border-color: transparent;\n",
              "      border-right-color: var(--fill-color);\n",
              "      border-top-color: var(--fill-color);\n",
              "    }\n",
              "    60% {\n",
              "      border-color: transparent;\n",
              "      border-right-color: var(--fill-color);\n",
              "    }\n",
              "    80% {\n",
              "      border-color: transparent;\n",
              "      border-right-color: var(--fill-color);\n",
              "      border-bottom-color: var(--fill-color);\n",
              "    }\n",
              "    90% {\n",
              "      border-color: transparent;\n",
              "      border-bottom-color: var(--fill-color);\n",
              "    }\n",
              "  }\n",
              "</style>\n",
              "\n",
              "  <script>\n",
              "    async function quickchart(key) {\n",
              "      const quickchartButtonEl =\n",
              "        document.querySelector('#' + key + ' button');\n",
              "      quickchartButtonEl.disabled = true;  // To prevent multiple clicks.\n",
              "      quickchartButtonEl.classList.add('colab-df-spinner');\n",
              "      try {\n",
              "        const charts = await google.colab.kernel.invokeFunction(\n",
              "            'suggestCharts', [key], {});\n",
              "      } catch (error) {\n",
              "        console.error('Error during call to suggestCharts:', error);\n",
              "      }\n",
              "      quickchartButtonEl.classList.remove('colab-df-spinner');\n",
              "      quickchartButtonEl.classList.add('colab-df-quickchart-complete');\n",
              "    }\n",
              "    (() => {\n",
              "      let quickchartButtonEl =\n",
              "        document.querySelector('#df-d3fec8f7-b9a8-44cd-b7e2-4b8de02bb458 button');\n",
              "      quickchartButtonEl.style.display =\n",
              "        google.colab.kernel.accessAllowed ? 'block' : 'none';\n",
              "    })();\n",
              "  </script>\n",
              "</div>\n",
              "\n",
              "    </div>\n",
              "  </div>\n"
            ],
            "application/vnd.google.colaboratory.intrinsic+json": {
              "type": "dataframe",
              "variable_name": "yelp_test",
              "summary": "{\n  \"name\": \"yelp_test\",\n  \"rows\": 38000,\n  \"fields\": [\n    {\n      \"column\": \"sentiment\",\n      \"properties\": {\n        \"dtype\": \"number\",\n        \"std\": 0,\n        \"min\": 0,\n        \"max\": 1,\n        \"num_unique_values\": 2,\n        \"samples\": [\n          0,\n          1\n        ],\n        \"semantic_type\": \"\",\n        \"description\": \"\"\n      }\n    },\n    {\n      \"column\": \"review\",\n      \"properties\": {\n        \"dtype\": \"string\",\n        \"num_unique_values\": 38000,\n        \"samples\": [\n          \"I expected the prices of the entrees to be a little bit higher but the quality of the Chinese food was not worth the money I paid for the dishes. I got the 18 monk noodle and the traditional dimsum. If I could describe the food  in one word-terrible! Making the dimsum look pretty by topping it with gold flakes did not do anything to make up for the flavor of the dimsum. It  seemed too starchy and you can hardly taste the meat. The noodles looked like a sad , greasy slop of Mai fun type noodles (noodles were stuck together) saturated with soy sauce for color, and garnished with a few pieces of shitake mushrooms, green onions and fine threads of carrots. And yes, portions were small, but that's not really the worst part of the whole experience. Just poorly prepared, way overpriced Chinese food...sorry.\",\n          \"Review of Buffet:\\\\n\\\\nUGH!  It was very very underwhelming. \\\\n\\\\nMaybe regular menu is great, but do not get the buffet IMHO.  About half the restaurant was eating the buffet... unfortunately I was in the idiot half of the crowd.\"\n        ],\n        \"semantic_type\": \"\",\n        \"description\": \"\"\n      }\n    }\n  ]\n}"
            }
          },
          "metadata": {},
          "execution_count": 123
        }
      ]
    },
    {
      "cell_type": "code",
      "source": [
        "y_test = np.array(yelp_test['sentiment'])\n",
        "print(y_test)"
      ],
      "metadata": {
        "id": "Qks0uXyzYbTe",
        "colab": {
          "base_uri": "https://localhost:8080/"
        },
        "outputId": "e37543f2-98b6-4435-8558-e280101df8ce"
      },
      "execution_count": 124,
      "outputs": [
        {
          "output_type": "stream",
          "name": "stdout",
          "text": [
            "[1 0 1 ... 0 0 0]\n"
          ]
        }
      ]
    },
    {
      "cell_type": "code",
      "source": [
        "X_test = tokenizer.texts_to_sequences(yelp_test['review'])"
      ],
      "metadata": {
        "id": "-UyBts6EYbTe"
      },
      "execution_count": 125,
      "outputs": []
    },
    {
      "cell_type": "code",
      "source": [
        "X_test = keras.preprocessing.sequence.pad_sequences(X_test, maxlen=MAX_REVIEW_LEN)"
      ],
      "metadata": {
        "id": "loh2rh3WYbTe"
      },
      "execution_count": 126,
      "outputs": []
    },
    {
      "cell_type": "code",
      "source": [
        "model.evaluate(X_test, y_test)"
      ],
      "metadata": {
        "id": "yKmqmLUkYbTf",
        "colab": {
          "base_uri": "https://localhost:8080/"
        },
        "outputId": "8275dbc3-fca1-4aa1-c6aa-a40fee7337d1"
      },
      "execution_count": 127,
      "outputs": [
        {
          "output_type": "stream",
          "name": "stdout",
          "text": [
            "1188/1188 [==============================] - 5s 4ms/step - loss: 0.1862 - accuracy: 0.9286\n"
          ]
        },
        {
          "output_type": "execute_result",
          "data": {
            "text/plain": [
              "[0.1861937791109085, 0.9286052584648132]"
            ]
          },
          "metadata": {},
          "execution_count": 127
        }
      ]
    },
    {
      "cell_type": "markdown",
      "source": [
        "Not bad for a conceptually simple model where we average out a review's word vectors, run it through a few plain hidden layers, and out through a sigmoid function with no regularization and just using defaults for model components (e.g. optimizer settings).<br><br>\n",
        "We can now use the model for predictions."
      ],
      "metadata": {
        "id": "9GBMe-YKZCDP"
      }
    },
    {
      "cell_type": "code",
      "source": [
        "def sentiment(reviews):\n",
        "  seqs = tokenizer.texts_to_sequences(reviews)\n",
        "  seqs = keras.preprocessing.sequence.pad_sequences(seqs, maxlen=MAX_REVIEW_LEN)\n",
        "  return model.predict(seqs)\n"
      ],
      "metadata": {
        "id": "rNbNyr8PVJMv"
      },
      "execution_count": 128,
      "outputs": []
    },
    {
      "cell_type": "code",
      "source": [
        "# Real reviews from Google Reviews.\n",
        "pos_review = \"The best seafood joint in East Village San Diego!  Great lobster roll, great fish, great oysters, great bread, great cocktails, and such amazing service.  The atmosphere is top notch and the location is so much fun being located just a block away from Petco Park (San Diego Padres Stadium).\"\n",
        "neg_review = \"A thoroughly disappointing experience. When you book a Marriott you expect a certain standard. Albany falls way short. Room cleaning has to be booked 24 hours in advance but nobody thought to mention this at check in. The hotel is tired and needs a face-lift. The only bright light in a sea of mediocrity were the pancakes at breakfast. Sadly they weren't enough to save the experience. If you travel to Albany, then do yourself a big favour and book the Westin.\""
      ],
      "metadata": {
        "id": "Jy-4MWV1VJRA"
      },
      "execution_count": 129,
      "outputs": []
    },
    {
      "cell_type": "code",
      "source": [
        "print(sentiment([pos_review, neg_review]))"
      ],
      "metadata": {
        "id": "wH8b-Z3GVJU3",
        "colab": {
          "base_uri": "https://localhost:8080/"
        },
        "outputId": "46a1942a-45f0-45b3-b82e-2e669c96222d"
      },
      "execution_count": 130,
      "outputs": [
        {
          "output_type": "stream",
          "name": "stdout",
          "text": [
            "1/1 [==============================] - 0s 99ms/step\n",
            "[[0.99963224]\n",
            " [0.00466187]]\n"
          ]
        }
      ]
    },
    {
      "cell_type": "markdown",
      "source": [
        "# Training New Embeddings and a Model at the Same Time"
      ],
      "metadata": {
        "id": "EUX0AZqYbt1y"
      }
    },
    {
      "cell_type": "markdown",
      "source": [
        "For this last model, rather than using pretrained embeddings, we'll start with a **random** embedding matrix and let the model come up with its own vectors simultaneously while fitting the training data.<br><br>\n",
        "We'll also use **early stopping**, but otherwise keep everything else the same."
      ],
      "metadata": {
        "id": "-ek2bnbCVJbv"
      }
    },
    {
      "cell_type": "code",
      "source": [
        "tf.random.set_seed(0)\n",
        "\n",
        "model = keras.Sequential()\n",
        "\n",
        "# The 'trainable' property is True by default.\n",
        "model.add(layers.Embedding(input_dim=num_tokens,\n",
        "                           output_dim=embedding_dim,\n",
        "                           input_length=MAX_REVIEW_LEN))\n",
        "\n",
        "\n",
        "model.add(layers.GlobalAveragePooling1D())\n",
        "model.add(layers.Dense(128, activation='relu', kernel_initializer=tf.keras.initializers.random_normal(seed=1)))\n",
        "model.add(layers.Dense(64, activation='relu', kernel_initializer=tf.keras.initializers.random_normal(seed=1)))\n",
        "model.add(layers.Dense(1, activation='sigmoid', kernel_initializer=tf.keras.initializers.random_normal(seed=1)))\n",
        "\n",
        "model.compile(optimizer='adam',\n",
        "              loss='binary_crossentropy',\n",
        "              metrics=['accuracy'])\n",
        "\n",
        "es_callback = keras.callbacks.EarlyStopping(monitor='val_loss', patience=3)\n",
        "history = model.fit(X_train, y_train, epochs=20, batch_size=512, validation_data=(X_val, y_val), callbacks=[es_callback])"
      ],
      "metadata": {
        "id": "wCy90PyxVJfK",
        "colab": {
          "base_uri": "https://localhost:8080/"
        },
        "outputId": "75e2727e-8463-43d9-e7a0-eb1da96680e7"
      },
      "execution_count": 131,
      "outputs": [
        {
          "output_type": "stream",
          "name": "stdout",
          "text": [
            "Epoch 1/20\n",
            "167/167 [==============================] - 22s 119ms/step - loss: 0.4285 - accuracy: 0.7803 - val_loss: 0.2251 - val_accuracy: 0.9141\n",
            "Epoch 2/20\n",
            "167/167 [==============================] - 14s 83ms/step - loss: 0.1849 - accuracy: 0.9307 - val_loss: 0.2124 - val_accuracy: 0.9169\n",
            "Epoch 3/20\n",
            "167/167 [==============================] - 10s 62ms/step - loss: 0.1503 - accuracy: 0.9457 - val_loss: 0.2042 - val_accuracy: 0.9214\n",
            "Epoch 4/20\n",
            "167/167 [==============================] - 7s 43ms/step - loss: 0.1314 - accuracy: 0.9536 - val_loss: 0.2141 - val_accuracy: 0.9199\n",
            "Epoch 5/20\n",
            "167/167 [==============================] - 6s 37ms/step - loss: 0.1204 - accuracy: 0.9584 - val_loss: 0.2251 - val_accuracy: 0.9169\n",
            "Epoch 6/20\n",
            "167/167 [==============================] - 7s 40ms/step - loss: 0.1100 - accuracy: 0.9622 - val_loss: 0.2320 - val_accuracy: 0.9181\n"
          ]
        }
      ]
    },
    {
      "cell_type": "code",
      "source": [
        "model.evaluate(X_test, y_test)"
      ],
      "metadata": {
        "id": "5dL0GwLUVJio",
        "colab": {
          "base_uri": "https://localhost:8080/"
        },
        "outputId": "4836b3e6-a75c-49e1-a8b0-305fd3a1c4fc"
      },
      "execution_count": 132,
      "outputs": [
        {
          "output_type": "stream",
          "name": "stdout",
          "text": [
            "1188/1188 [==============================] - 3s 3ms/step - loss: 0.2174 - accuracy: 0.9217\n"
          ]
        },
        {
          "output_type": "execute_result",
          "data": {
            "text/plain": [
              "[0.21742640435695648, 0.9217105507850647]"
            ]
          },
          "metadata": {},
          "execution_count": 132
        }
      ]
    },
    {
      "cell_type": "markdown",
      "source": [
        "It looks like in this case, we get comparable performance between fine-tuning pretrained vectors and training embeddings from scratch as part of the model; likely because of the nature of the data and amount of it."
      ],
      "metadata": {
        "id": "n3Uy8zP-0WUI"
      }
    },
    {
      "cell_type": "markdown",
      "source": [
        "# Try This"
      ],
      "metadata": {
        "id": "Si2Nx7NSfl1V"
      }
    },
    {
      "cell_type": "markdown",
      "source": [
        "In our first model, we used pretrained vectors in the **embedding layer** and set the *trainable* property to **True**, allowing the model to fine-tune the word vectors.<br><br>\n",
        "Instantiate the same model but this time, set the *trainable* property in the **embedding layer** to **False**. What happens to training performance? Does the training speed increase or decrease? What happens if you try to add some regularization like dropout?<br>\n",
        "\n",
        "Other things you can try to see what happens: reduce the number of units, use a slower learning rate, reduce the number of hidden layers, reduce vocabulary, reduce embedding dimensions, use regularization, use a shorter sequence length."
      ],
      "metadata": {
        "id": "FsQYls6a0zH2"
      }
    },
    {
      "cell_type": "code",
      "source": [
        "# Instantiate the embedding layer.\n",
        "\n",
        "\n",
        "model = keras.Sequential()\n",
        "\n",
        "# Add layers.\n",
        "\n",
        "\n",
        "# Compile model.\n",
        "\n",
        "\n",
        "# Call fit.\n",
        "\n",
        "\n",
        "# Evaluate the model.\n"
      ],
      "metadata": {
        "id": "28u6ssTzflcE"
      },
      "execution_count": 133,
      "outputs": []
    },
    {
      "cell_type": "markdown",
      "source": [
        "# Alternative Static Embedding Algorithms"
      ],
      "metadata": {
        "id": "TgJM0Flw6Imq"
      }
    },
    {
      "cell_type": "markdown",
      "source": [
        "## GloVe\n",
        "**GloVe (Global Vectors for Word Representation)** is another algorithm for creating static word vectors. You can read the original GloVe paper and download pretrained word vectors here:<br>\n",
        "https://nlp.stanford.edu/projects/glove/"
      ],
      "metadata": {
        "id": "Xcq27-hYKdMh"
      }
    },
    {
      "cell_type": "markdown",
      "source": [
        "## Doc2Vec\n",
        "An algorithm which represents a document as a dense vector which addresses weaknesses of bag-of-words models.<br>\n",
        "https://arxiv.org/abs/1405.4053<br>\n",
        "https://radimrehurek.com/gensim/models/doc2vec.html<br>"
      ],
      "metadata": {
        "id": "331buv_FK4nQ"
      }
    },
    {
      "cell_type": "markdown",
      "source": [
        "## fastText\n",
        "An alternative approach to creating embeddings. Instead of assigning a vector to each _word_ (e.g. a separate vector each for \"dog\" and \"dogs\"), a vector is assigned to each _subword_. For fastText, a subword is defined as a character n-gram.\n",
        "<br><br>\n",
        "So if n=3, then a word like \"hello\" would result in vectors for \"<he\", \"hel\", \"ell\", \"llo\", \"lo>\" (note that \"<\" and \">\" are special characters). The vector for \"hello\" would be the sum of all the above vectors. This helps deal with OOV situations because vectors can still be assigned to unseen words as long as the n-grams exist in the vocabulary.<br>\n",
        "https://fasttext.cc/<br>\n",
        "https://radimrehurek.com/gensim/models/fasttext.html\n",
        "<br><br>\n",
        "**We'll cover subword tokenization in greater detail later in the course.**"
      ],
      "metadata": {
        "id": "aRq8HklIg2Gu"
      }
    }
  ]
}